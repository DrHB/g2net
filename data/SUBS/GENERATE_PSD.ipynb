{
 "cells": [
  {
   "cell_type": "code",
   "execution_count": 1,
   "id": "f029929a",
   "metadata": {},
   "outputs": [],
   "source": [
    "import pandas as pd\n",
    "import os\n",
    "from pathlib import Path\n",
    "\n",
    "def generate_psd(fn, high = 0.99, low = 0.09):\n",
    "    df = pd.read_csv(fn)\n",
    "    pos = df.query('target>@high').copy()\n",
    "    pos['target'] = 1\n",
    "    neg = df.query('target<@low').copy()\n",
    "    neg['target'] = 0\n",
    "    return pd.concat([pos, neg], ignore_index=True)"
   ]
  },
  {
   "cell_type": "code",
   "execution_count": 2,
   "id": "434114f0",
   "metadata": {},
   "outputs": [],
   "source": [
    "name = 'PSD_1.csv'\n",
    "os.makedirs('../PSD/', exist_ok=True)\n",
    "path = Path('../PSD/')/name\n",
    "fn = \"convnext_xlarge_384_in22ft1k_LARGE_MODEL_BASELINE_DATA_V0_1_3_4_5_6_7_8_COMB_COMP_V5_360_256_MIXUP_CUTMIX_FT_360_64_5FOLD.csv\"\n",
    "generate_psd(fn).to_csv(path, index=False)"
   ]
  },
  {
   "cell_type": "code",
   "execution_count": 2,
   "id": "ef292d19",
   "metadata": {},
   "outputs": [],
   "source": [
    "name = 'PSD_2.csv'\n",
    "os.makedirs('../PSD/', exist_ok=True)\n",
    "path = Path('../PSD/')/name\n",
    "fn = \"ENS_10.csv\"\n",
    "generate_psd(fn).to_csv(path, index=False)"
   ]
  },
  {
   "cell_type": "code",
   "execution_count": null,
   "id": "1bca2f8b",
   "metadata": {},
   "outputs": [],
   "source": []
  }
 ],
 "metadata": {
  "kernelspec": {
   "display_name": "Python 3 (ipykernel)",
   "language": "python",
   "name": "python3"
  },
  "language_info": {
   "codemirror_mode": {
    "name": "ipython",
    "version": 3
   },
   "file_extension": ".py",
   "mimetype": "text/x-python",
   "name": "python",
   "nbconvert_exporter": "python",
   "pygments_lexer": "ipython3",
   "version": "3.8.13"
  }
 },
 "nbformat": 4,
 "nbformat_minor": 5
}
