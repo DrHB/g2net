{
 "cells": [
  {
   "cell_type": "code",
   "execution_count": 1,
   "id": "55a8458d",
   "metadata": {},
   "outputs": [],
   "source": [
    "import pandas as pd\n",
    "from pathlib import Path\n",
    "import numpy as np"
   ]
  },
  {
   "cell_type": "code",
   "execution_count": 2,
   "id": "4eb8b3a3",
   "metadata": {},
   "outputs": [
    {
     "name": "stdout",
     "output_type": "stream",
     "text": [
      "ENS.ipynb\r\n",
      "ENS_10.csv\r\n",
      "ENS_10_neg.csv\r\n",
      "ENS_10_pos.csv\r\n",
      "ENS_11.csv\r\n",
      "ENS_12.csv\r\n",
      "ENS_13.csv\r\n",
      "ENS_14.csv\r\n",
      "ENS_15.csv\r\n",
      "ENS_16.csv\r\n",
      "ENS_6.csv\r\n",
      "ENS_7.csv\r\n",
      "ENS_8.csv\r\n",
      "ENS_9.csv\r\n",
      "GENERATE_PSD.ipynb\r\n",
      "PSD_1.csv\r\n",
      "convnext_large_384_in22ft1k_EXP_20_05_DATA_V10_V11_V12_NEG_13_14_16_17_360_64_V_16_large.csv\r\n",
      "convnext_large_384_in22ft1k_EXP_20_DATA_V10_V11_V12_NEG_13_14_16_17_360_128_V_16_large.csv\r\n",
      "convnext_large_384_in22ft1k_EXP_20_DATA_V10_V11_V12_NEG_13_14_16_17_360_128_V_16_large_PSD.csv\r\n",
      "convnext_large_384_in22ft1k_EXP_30_00_convnext_large_384_in22ft1k_V_17_True.csv\r\n",
      "convnext_xlarge_384_in22ft1k_EXP_01_SPLITS_V0_MIXUP_AUG_NORMAL_AFTER_MEAN_5FOLD.csv\r\n",
      "convnext_xlarge_384_in22ft1k_EXP_10_DATA_V10_V11_V12_13_14_15_16_17_18_360_128_mixup.csv\r\n",
      "convnext_xlarge_384_in22ft1k_EXP_10_DATA_V10_V11_V12_13_14_15_16_17_18_360_128_mixup_FT.csv\r\n",
      "convnext_xlarge_384_in22ft1k_EXP_10_DATA_V10_V11_V12_13_14_15_16_17_18_360_128_nomean_normalizer.csv\r\n",
      "convnext_xlarge_384_in22ft1k_EXP_10_DATA_V10_V11_V12_13_14_15_16_360_128_nomean_normalizer.csv\r\n",
      "convnext_xlarge_384_in22ft1k_EXP_10_DATA_V10_V11_V12_360_128.csv\r\n",
      "convnext_xlarge_384_in22ft1k_EXP_10_DATA_V10_V11_V12_360_128_nomean_normalizer.csv\r\n",
      "convnext_xlarge_384_in22ft1k_EXP_10_DATA_V10_V11_V12_360_64_384_384_SPLIT_V11_nomean_normalizer_mixup.csv\r\n",
      "convnext_xlarge_384_in22ft1k_EXP_10_DATA_V10_V11_V12_360_64_SPLIT_V11_nomean_normalizer_mixup.csv\r\n",
      "convnext_xlarge_384_in22ft1k_EXP_10_DATA_V10_V11_V12_360_64_nomean_normalizer.csv\r\n",
      "convnext_xlarge_384_in22ft1k_EXP_10_DATA_V10_V11_V12_NEG_13_14_16_17_360_128_V_15.csv\r\n",
      "convnext_xlarge_384_in22ft1k_EXP_20_DATA_V10_V11_V12_NEG_13_14_16_17_360_128_V_16.csv\r\n",
      "convnext_xlarge_384_in22ft1k_EXP_20_DATA_V10_V11_V12_NEG_13_14_16_17_360_128_V_16_MIXUP.csv\r\n",
      "convnext_xlarge_384_in22ft1k_EXP_20_DATA_V10_V11_V12_NEG_13_14_16_17_360_128_V_16_xlarge_PSD.csv\r\n",
      "convnext_xlarge_384_in22ft1k_LARGE_MODEL_BASELINE_DATA_V0_1_3_4_5_6_7_8_COMB_COMP_V5_360_256_MIXUP_CUTMIX_FT_360_64_5FOLD.csv\r\n",
      "submission_debias.csv\r\n",
      "tf_efficientnet_b7_ns_EXP_30_02_tf_efficientnet_b7_ns_V_19_False.csv\r\n"
     ]
    }
   ],
   "source": [
    "!ls"
   ]
  },
  {
   "cell_type": "code",
   "execution_count": 3,
   "id": "ccca3db2",
   "metadata": {},
   "outputs": [],
   "source": [
    "fns = [\n",
    "    \"convnext_xlarge_384_in22ft1k_EXP_10_DATA_V10_V11_V12_360_128.csv\",\n",
    "    \"convnext_xlarge_384_in22ft1k_LARGE_MODEL_BASELINE_DATA_V0_1_3_4_5_6_7_8_COMB_COMP_V5_360_256_MIXUP_CUTMIX_FT_360_64_5FOLD.csv\"\n",
    "]\n",
    "\n",
    "\n",
    "def read_multiple(fns):\n",
    "    dfs = [pd.read_csv(i).set_index('id') for i in fns]\n",
    "    return dfs\n",
    "\n",
    "\n",
    "pos = [\"008b91c55\", \"00bce5685\", \"00f226552\", \"012992291\", \"015bf0213\", \"017a7c7f1\", \"0195324d2\", \"01cb9865c\", \"01dc5af02\", \"023aebec4\", \"028b6615d\", \"02c2e5de1\", \"0302d47d0\", \"030658180\", \"0354a13e2\", \"03717ca39\", \"04592c3d1\", \"047fb9ed5\", \"051895cd1\", \"05cad0ed3\", \"05eda6f5a\", \"0611d3c27\", \"0639bd69d\", \"0675028e4\", \"06ac9d3ea\", \"077a11239\", \"077a57010\", \"07b2073db\", \"07cd0847f\", \"07dd7e0e2\", \"08f6988f4\", \"092c9af35\", \"094687e08\", \"0a2e0807c\", \"0a61f1932\", \"0a9780441\", \"0a9def5f6\", \"0ae4c93c8\", \"0ae892b99\", \"0afa0bb1b\", \"0bce75cc0\", \"0bfb2a22e\", \"0c7f63a4c\", \"0cac0b665\", \"0d0fb754f\", \"0d16c6139\", \"0d70d7ce1\", \"0d9fd6c93\", \"0dcfb8530\", \"0dfe6acb4\", \"0e168818a\", \"0e26a554b\", \"0e33ca7db\", \"0eaafb22f\", \"0ebff2780\", \"0f9dd9eca\", \"0fefc4fd9\", \"1031d1f36\", \"1081950a3\", \"113e2e633\", \"11c6c76ab\", \"1242a70e8\", \"1286e574f\", \"12b3ae845\", \"12d8eed90\", \"12db0b252\", \"13731679d\", \"137a2ed27\", \"137d4d41b\", \"13ab0a0b2\", \"13c0417d6\", \"13c184cdc\", \"13ddf3c72\", \"147fbd0fe\", \"14d7c9498\", \"14dfefcd5\", \"14eb4a20c\", \"15149b585\", \"154e3c957\", \"15785900e\", \"15b0fd78b\", \"15ecfbf90\", \"15fc931ea\", \"161dff33f\", \"162395d96\", \"163f2d88e\", \"166baf13f\", \"166ffe397\", \"168f2a36c\", \"16a661528\", \"1764d7bf0\", \"17ecd00b9\", \"180d34e52\", \"180f77ac8\", \"183510397\", \"18448da35\", \"18d56acf1\", \"193667fcf\", \"1948c446d\", \"1979dbea3\", \"19c4818b5\", \"19cf5d868\", \"1a6246e1a\", \"1a695b048\", \"1aa71d63a\", \"1abc53c78\", \"1abdbf772\", \"1ad1b366d\", \"1aea74b40\", \"1b7608cf7\", \"1bdcfd1e6\", \"1cb847682\", \"1ce108de4\", \"1d986a4b5\", \"1df3960ac\", \"1e66dc097\", \"1ed98b2c2\", \"1f4dd9252\", \"1f9bb71c0\", \"20612b3e4\", \"20d6d3d11\", \"20e1dbc67\", \"210c5f6a1\", \"211108cc0\", \"218b75976\", \"21dd6365d\", \"221b920a4\", \"2221e08b4\", \"2232ffe30\", \"22b61b7b3\", \"22c61fa16\", \"234e172c0\", \"23c5d3107\", \"23d70e5d1\", \"23d90d609\", \"240789d04\", \"243845761\", \"248d86603\", \"249099ad6\", \"2498595ac\", \"24b4174cb\", \"25671a512\", \"257264706\", \"25b483fa0\", \"25cc60c9b\", \"26ca57eba\", \"275a2d879\", \"2761e4bad\", \"277238c02\", \"289b9b1d8\", \"28f679138\", \"291c8006b\", \"2955a55b1\", \"29873c606\", \"29f3d1ed5\", \"2a0159541\", \"2a12adffe\", \"2a180c12a\", \"2a78ef0cd\", \"2a870f928\", \"2abd229bc\", \"2ae002c3f\", \"2aea19b04\", \"2bb864b08\", \"2ca75fabd\", \"2cbdeb983\", \"2cbe330e0\", \"2ceb94002\", \"2d207c125\", \"2d2275bb5\", \"2d4b3758d\", \"2d57c9399\", \"2d5db8379\", \"2d757d2c1\", \"2d8486121\", \"2e5af1d8b\", \"2e86815e1\", \"2e9466aee\", \"2ec06617e\", \"2ec2db48d\", \"2f5dfb161\", \"2fc00284e\", \"2fe5f1717\", \"2fe8795d8\", \"30218f6ba\", \"3022e8994\", \"30240e8a5\", \"302a9cc68\", \"306bdc5c1\", \"309c1cc9e\", \"30c29d4ee\", \"3109af837\", \"3190f5826\", \"31a1ff060\", \"31ffa6934\", \"322046c4d\", \"3242d94d2\", \"3245cf936\", \"326a66010\", \"3279f4bba\", \"327d89e99\", \"32d5c7384\", \"32e593923\", \"3323888e7\", \"334680bd1\", \"336ed74d4\", \"337b82964\", \"338088eee\", \"33abc2840\", \"33ac02361\", \"34365c566\", \"3443e104d\", \"3485ed239\", \"34d9740b9\", \"3507e1515\", \"356e630ce\", \"35a5ef7d2\", \"35a67c429\", \"35e7353b3\", \"36625a7db\", \"3742aa18c\", \"3753e999c\", \"376ffab2d\", \"37bae074b\", \"381a9af29\", \"3885d0e1a\", \"388d00912\", \"38994676c\", \"38b2510ec\", \"39a264f07\", \"39add4593\", \"3a94e8b84\", \"3abcdaf6a\", \"3ac230af8\", \"3ae232a65\", \"3b54fbb0b\", \"3b6e7f0ac\", \"3c1fe0fb6\", \"3c84aad9a\", \"3caac79b1\", \"3cda37254\", \"3cff3d1df\", \"3db99e7cf\", \"3dc645474\", \"3dccf2e04\", \"3e3f4c2e5\", \"3e4a3c65a\", \"3e4b4a631\", \"3e503b700\", \"3e8a698ca\", \"3ed8f820b\", \"3f5849e72\", \"3f5be5bf5\", \"3fa023578\", \"3feac2d37\", \"4006adb1a\", \"40df3665f\", \"40e118e70\", \"41067c0bd\", \"412c5e57f\", \"41e5f7426\", \"41f4bd1b3\", \"42313a825\", \"4247e30cf\", \"426cadd53\", \"427e1391e\", \"42ca943d0\", \"42efccabf\", \"4337094c3\", \"435465a6a\", \"43ab3acba\", \"43fb14080\", \"4417a60ae\", \"44c13833b\", \"450f0b42f\", \"45b549521\", \"45e8578bc\", \"4641e706a\", \"465de42ff\", \"46684d694\", \"46cab26bb\", \"46ea07334\", \"473adc567\", \"473ef0b67\", \"4751cd02c\", \"4768dd659\", \"478547418\", \"47a217380\", \"47e64ebe7\", \"480eb7762\", \"48589b9ca\", \"485be1079\", \"48ac8d5c4\", \"494456b4c\", \"49cc0b77a\", \"49d9e7dad\", \"4a095dc42\", \"4a5e7564f\", \"4a620e20d\", \"4b1dc214e\", \"4c41ba002\", \"4c5343657\", \"4ca82fcd5\", \"4d0bba14e\", \"4d9b509f0\", \"4dff1cfb2\", \"4e03f621d\", \"4f306a341\", \"4f6265cfb\", \"4f69417cf\", \"50456e78c\", \"50851fe35\", \"50865063c\", \"50ab23095\", \"50feb40ff\", \"517f12b45\", \"51f813b14\", \"521704abd\", \"52186fb05\", \"523d37990\", \"529ad9fed\", \"5302a5c1d\", \"5329a429c\", \"53320e6bc\", \"53362e699\", \"5348aa921\", \"5376c9cac\", \"5388e737d\", \"53b80dcf4\", \"53bc73f80\", \"53c4b4b1a\", \"53ead9e8f\", \"53f254a5c\", \"5434a1eee\", \"546913595\", \"55179b353\", \"55465dae2\", \"556ee9c40\", \"5618591e4\", \"562c9d013\", \"56336430b\", \"56b57039a\", \"56e3a9c78\", \"56edbe968\", \"572ac63ea\", \"57e146d20\", \"58d8aeb84\", \"59a6a4b02\", \"59b1791b4\", \"59f188a9f\", \"5a36b5407\", \"5ab02c27d\", \"5b122cc22\", \"5b3e96840\", \"5b7871232\", \"5b8a21b44\", \"5bb4aa235\", \"5bbd60669\", \"5c7713b7a\", \"5ccee0125\", \"5cef1993d\", \"5cf106611\", \"5dc1bab81\", \"5e12c0d48\", \"5e4a83024\", \"5f90f5bc9\", \"5f99503fd\", \"5f9a1ef53\", \"5faac0b36\", \"5ffd1f11a\", \"60380ce6d\", \"603dbb7b9\", \"608c2d607\", \"60b86e780\", \"60e18e479\", \"61183e510\", \"611b863fd\", \"615e4bcf6\", \"615f76e28\", \"616339a77\", \"61682b309\", \"61b9d669e\", \"628f43ef0\", \"62dc61c11\", \"62e469f67\", \"630d8cc86\", \"632870895\", \"634a9528f\", \"63518bd39\", \"63bd7e7de\", \"63edc2e4f\", \"63efe2c16\", \"6478d9d02\", \"649652bbd\", \"64b4f83b6\", \"64b8fa1fa\", \"6509ebfa6\", \"651668d15\", \"651de73fa\", \"65289fa27\", \"657ae82b3\", \"657ebf705\", \"659945133\", \"65dacb72d\", \"65dbc156d\", \"66e20bdbc\", \"6753d332c\", \"67c98515f\", \"6862e262c\", \"687891898\", \"68d6e5e02\", \"68ebd9148\", \"69ad5230b\", \"69f5bf408\", \"6aa93b740\", \"6b014dd4a\", \"6b56645ec\", \"6b610a30e\", \"6b65bd089\", \"6b6faf1da\", \"6b7099148\", \"6b8655c14\", \"6bd915dd1\", \"6be9fd24d\", \"6c14a4f3f\", \"6c3c3e3b4\", \"6c7032492\", \"6c735c1e4\", \"6d24da6f2\", \"6d6c10816\", \"6d7d7ae6e\", \"6dccc5fe9\", \"6e4e39262\", \"6e63e80b4\", \"6ec60dc8f\", \"6fb096f56\", \"6feef7863\", \"7013e82bb\", \"709f52e60\", \"70a9bab8e\", \"711f82733\", \"712a1e583\", \"71e9a45de\", \"720ed4c62\", \"7265d9605\", \"73281d4ef\", \"7335f79ff\", \"73ec484a3\", \"741b6a3a3\", \"745164304\", \"7456ed1d3\", \"749d5249c\", \"752b5cf52\", \"7537c3e7f\", \"755d947a2\", \"75ac44aff\", \"7655b2d3c\", \"76e40fc8a\", \"7709f0194\", \"7715b67f2\", \"771f29ac3\", \"779f7cdd7\", \"77c3a6877\", \"780936b0d\", \"781ede24b\", \"784cef59b\", \"785001f55\", \"785011ce6\", \"78a3facc4\", \"78c328627\", \"78f2a09b1\", \"793bc5ca2\", \"793c2bc40\", \"7971e3fa2\", \"7982939f2\", \"7a1eb66cd\", \"7a4c3b959\", \"7a7f1a9c1\", \"7a9421439\", \"7ad6a95c1\", \"7b1f9f4a4\", \"7bf732340\", \"7c251f371\", \"7c37fb90d\", \"7e7192783\", \"7e8a33986\", \"7f343a951\", \"7f18dcb24\", \"7fb749b67\", \"8008b5751\", \"805264555\", \"80c9d62f7\", \"80f7a5168\", \"818a4f930\", \"81c8ae37f\", \"81d69558d\", \"81d93c6fa\", \"81ed35f3d\", \"82d25d2a7\", \"835e95505\", \"8365381ee\", \"83684c02b\", \"83873a300\", \"846259c61\", \"8485c991b\", \"849cbfcbf\", \"84a7327bc\", \"84ed19a7d\", \"856831ddf\", \"861240b40\", \"861b2119e\", \"86531152e\", \"867293db6\", \"8707988b8\", \"87136e3c4\", \"8819b75c6\", \"881ee1435\", \"88bffad32\", \"88e3a7747\", \"88ec93a19\", \"894a5a054\", \"8972c5591\", \"897d945ce\", \"8992e892e\", \"899f60a37\", \"8a4830756\", \"8aa5137a5\", \"8ab48304e\", \"8b48760a4\", \"8ba318040\", \"8c0471631\", \"8c103dd7d\", \"8c4642358\", \"8c722d417\", \"8c7d6c68a\", \"8cdab6dfb\", \"8cdef8adf\", \"8ce510886\", \"8d0873458\", \"8daf59cf1\", \"8de46bd52\", \"8e6048ed6\", \"8e7a9c60e\", \"8e9e3c11e\", \"8eb077696\", \"8edd10d8c\", \"8f41cb705\", \"8fea9a7cb\", \"901fde144\", \"9048ae8d0\", \"907ce79d9\", \"908d06ba1\", \"9145337f5\", \"916e7034f\", \"9186fe6d5\", \"91b6b60bc\", \"91f7fed7f\", \"927dfd49a\", \"92845e015\", \"93143054e\", \"9316bf46e\", \"9326252a8\", \"93dd663b6\", \"93e150893\", \"93ec07f9e\", \"95fe6b82b\", \"964f27e0b\", \"96a527a7d\", \"9717b6d76\", \"9727a02cc\", \"983a9616f\", \"98b8bf99d\", \"b21dac14c\", \"9951f9a1e\", \"996b2b55e\", \"99a8c8e67\", \"99b1f29c4\", \"99c8b63f1\", \"9a1f34301\", \"9b1c22a2f\", \"9b3968afa\", \"b8f8ba393\", \"9b5b33610\", \"9b8de9d8e\", \"9b9d80b0e\", \"9c02351ec\", \"9c02b193b\", \"9c060f0f4\", \"9c59d4cc1\", \"9c6c67747\", \"9c816769d\", \"9d13239ac\", \"9d37c620d\", \"9d58201e6\", \"9d7676848\", \"9e49c9fe4\", \"9e5143dd1\", \"9f1b0e62e\", \"9f5acbd94\", \"9f635d10d\", \"a00adfc84\", \"a01663464\", \"a06ce46d7\", \"a0e9925da\", \"a12b21258\", \"a13581e65\", \"a14506109\", \"a18613f2c\", \"a18ae6248\", \"a22464405\", \"a251743b4\", \"a2a0c2602\", \"a2e7ee5ac\", \"a3349d5b1\", \"a356ae34a\", \"a411ad130\", \"a42f5bd64\", \"a438c6cfc\", \"a448b8a13\", \"a47c5095a\", \"a51035b48\", \"a516aa9d6\", \"a5c39d5fe\", \"a733a9c7e\", \"a77da0f78\", \"a7a6015e0\", \"a7b12149e\", \"a85fc17f2\", \"a8aaa9755\", \"a8fefe2a5\", \"a91b62430\", \"a5c65d974\", \"a62f12b24\", \"a67f981fd\", \"a2f07fb2f\", \"a18bc84df\", \"a1b093860\", \"a93def817\", \"a9952664f\", \"eec309fff\", \"a9b4113f2\", \"a9d495532\", \"aa6b261d0\", \"aa96b3b06\", \"aaaef2162\", \"aab94bc44\", \"aabb2146f\", \"aaebed8e4\", \"aaeec0efa\", \"aaeff1b1e\", \"ab6bc8ecd\", \"abbe7c13d\", \"abcc88fdd\", \"abd339ec4\", \"ac1337358\", \"ac53d47ad\", \"ac87e419a\", \"ac88721bc\", \"acf8ccc40\", \"ad0ca4433\", \"ad0f2b63d\", \"ad133a4d0\", \"ad16a18cc\", \"ad2b53cb7\", \"ad748627c\", \"ad811541d\", \"adc7f1815\", \"ae62f85b5\", \"aeb84922d\", \"aee0d611a\", \"aef497077\", \"af0650f97\", \"b0f663708\", \"b12a39a61\", \"af1c3875b\", \"afb6c2dd7\", \"b0b623f5f\", \"b0882b4f2\", \"b21f70e58\", \"b2398cf5a\", \"b2b499d55\", \"b2c3bd2b6\", \"b332c2280\", \"b33c5a1a9\", \"b33c84c79\", \"b390b1096\", \"b3c6a59e3\", \"b43ba01f7\", \"b441ab24d\", \"b49efab84\", \"b530f8500\", \"b56cd92fa\", \"b5a332c7e\", \"b5d96a94a\", \"b5fd076d5\", \"b61008f30\", \"b68b3717a\", \"b69344a7d\", \"b69b880b4\", \"b6b09f76f\", \"b6f7d69fe\", \"b788b3f0f\", \"b7a7124cc\", \"b95187d0f\", \"b8ad556f9\", \"ba07b9867\", \"ba95eaab1\", \"bac6869fa\", \"bb2be9d77\", \"bba80c75f\", \"bbe7f9004\", \"bc90bb755\", \"bcb219458\", \"bd8f3ae41\", \"bd957074c\", \"be1c90c04\", \"be3687c7b\", \"bf3baa13d\", \"bf8c2b7c6\", \"c08f7fbd7\", \"c0c4c60f7\", \"c0f0b6cbb\", \"c1304726c\", \"c18c03cce\", \"c246343a6\", \"c26d53aa8\", \"c2706f0d0\", \"c318bba91\", \"c374ae4ef\", \"c3ec88602\", \"c431f2c73\", \"c48417c68\", \"c487fd70a\", \"c4df9d520\", \"c4fb64948\", \"c5578c571\", \"c58707581\", \"c5dbbca3b\", \"c5e3703b4\", \"c5f358792\", \"c61c091ac\", \"c70580b6c\", \"c71d8f370\", \"c75b9f898\", \"d29c12463\", \"d29ed865b\", \"d2e9a7d91\", \"d31406fee\", \"d31c57943\", \"d3380574f\", \"d385a0e12\", \"d3d6a395f\", \"d40a93867\", \"d41571ec9\", \"c7bebeb57\", \"c80a6e98a\", \"c80dd37b5\", \"c85e2e52a\", \"c86aa34bd\", \"c88c13b54\", \"c8c196906\", \"c90947444\", \"c96257fda\", \"ca2eec779\", \"cad4c86af\", \"cb11c603e\", \"cb19344d7\", \"cb7527171\", \"cbdadbf8a\", \"ccb2a29e3\", \"cd2189e5b\", \"cd3d4d43b\", \"cd665c616\", \"ce96dda82\", \"cf734d970\", \"cf9e856c5\", \"d06d63717\", \"d09f002bc\", \"d0b436a4f\", \"d0d10f455\", \"d0e1a6e8f\", \"d11b436e0\", \"d19925d1e\", \"d1ae07eb0\", \"d2132510e\", \"d23456c22\", \"d253828d4\", \"be4c0fd79\", \"b8d6b62dc\", \"d4e46b35f\", \"d4f53a225\", \"d5068ef03\", \"d50959802\", \"d53836de7\", \"d65d8383c\", \"d65e984f5\", \"d66725634\", \"d6cc47115\", \"d7041d2f4\", \"d718c0c29\", \"d72c3c2b2\", \"d754b6e93\", \"d7896aa92\", \"d79369a45\", \"d7b4ae67f\", \"d84e5488c\", \"d87cae503\", \"d87dcff97\", \"d8c3a2fc3\", \"d980b72d2\", \"d98e85a30\", \"d9bbdfe61\", \"d9ef85811\", \"da02dba51\", \"da17124e2\", \"db51761bd\", \"db800e410\", \"dc154cbb6\", \"dc20f8235\", \"be92c0706\", \"dc5116c0e\", \"dc68cab42\", \"dcfe9fe0f\", \"dd17b2712\", \"dd34ee959\", \"dfe979f1e\", \"deceb9082\", \"de003310a\", \"e124f4193\", \"e13312e60\", \"e1aa595c3\", \"e1c01fc80\", \"e2256cda9\", \"e2b58e3c5\", \"e2fa690a6\", \"e3799feb7\", \"e464b5578\", \"e4d6595d9\", \"e4d9ba120\", \"e5d46958e\", \"e5f047e81\", \"e5f557194\", \"e63b7654c\", \"e66013433\", \"e66f556b6\", \"e69e73c5d\", \"e6fa44fad\", \"e72d0cb27\", \"e72ec8893\", \"e75cc612c\", \"e76e00ffd\", \"e77849eff\", \"e7add04bb\", \"e7b9985a1\", \"e80e4042a\", \"e80e8be07\", \"e81122168\", \"e8118e55a\", \"e83141ee0\", \"e836946fc\", \"e90fe12f0\", \"e9a3d272f\", \"e9c4184fb\", \"ea03499ad\", \"ea057ff4c\", \"ea06c71cc\", \"ea0c1cb53\", \"ea59736e8\", \"ea6ff462e\", \"eb1fc0362\", \"eb3b88eee\", \"eba37c86c\", \"ebeb1ca65\", \"ecb33e062\", \"ed5246714\", \"ed6570249\", \"ed890e6b6\", \"edce6c418\", \"ee1f17704\", \"ee539abc8\", \"ee715a1e6\", \"ee8bd4691\", \"ee8f4b623\", \"eea970dfe\", \"e541abebb\", \"eecbc5c13\", \"eedd028e5\", \"eee7e0089\", \"eef41eeca\", \"ef595803b\", \"ef873032d\", \"ef90af2fa\", \"efb9b702a\", \"efc1939c3\", \"efecaf2fd\", \"f01f87a8f\", \"f0428245c\", \"f05ffe684\", \"f0ac08475\", \"f0fb1a4c4\", \"f10bacca1\", \"f10c9650f\", \"f122aab40\", \"f12e585bd\", \"f130b46d5\", \"f18167fe9\", \"f1a7495c4\", \"f1b072728\", \"f1be87e8a\", \"f1ea39a00\", \"f2ac2edec\", \"f33e73f62\", \"f3c4a98d8\", \"f45d55487\", \"f4963046e\", \"f4a6d1f78\", \"f4b45a8d3\", \"f4b7c4a65\", \"f4decfaac\", \"f5130711a\", \"f532ff155\", \"f57956a07\", \"f589dc73c\", \"f59fed8e1\", \"f5d25af84\", \"f5da51794\", \"f5df65e7b\", \"f5e17620d\", \"f66c7b189\", \"f7381d1d0\", \"f740d80e1\", \"f7548d0eb\", \"f7b345696\", \"f84220402\", \"f859e555e\", \"f8935ae34\", \"f8b66e6cf\", \"f8ca6362d\", \"f99431b7d\", \"fa400f328\", \"fa4cf3589\", \"fa504210e\", \"faa36bae5\", \"faa696b45\", \"fb1e0df09\", \"fb58bad13\", \"fc2271359\", \"fc42166c0\", \"fd0bde745\", \"fd95e737e\", \"fdbf65da4\", \"fe2331b38\", \"fe3983d5d\", \"feed886fe\", \"ffb5b60b1\", \"e59997ccd\"]\n",
    "neg = [\"dee7c8d0f\", \"6ef79f3e4\", \"b1ce28bbb\", \"a1f9b8e82\", \"b95698658\", \"7341591b0\", \"b0990161d\", \"71051c674\", \"7ee0a00f8\", \"a015abc2e\", \"895b27680\", \"7c7d5b29c\", \"ddd8c6e90\", \"80b695868\", \"8b180f74f\", \"e08f4e117\", \"dc2aaaee9\", \"93364a2e2\", \"9f37c3fde\", \"82d846e01\", \"8930668af\", \"87c1d57ad\", \"81fd533ac\", \"9d340855d\"]"
   ]
  },
  {
   "cell_type": "code",
   "execution_count": 21,
   "id": "5f3e9057",
   "metadata": {},
   "outputs": [],
   "source": [
    "#ens_val = pd.concat(read_multiple(fns), axis=1).rank().mean(axis=1).values\n",
    "#sub = pd.read_csv(fns[0])\n",
    "#sub['target'] = ens_val\n",
    "#sub.to_csv('ENS_6.csv', index=False)"
   ]
  },
  {
   "cell_type": "code",
   "execution_count": 22,
   "id": "910a2243",
   "metadata": {},
   "outputs": [],
   "source": [
    "ens_val = pd.concat(read_multiple(fns), axis=1).rank(pct=True)\n",
    "ens_val = np.sum(ens_val.values * np.array([0.3, 0.7]), axis=1)\n",
    "sub = pd.read_csv(fns[0])\n",
    "sub['target'] = ens_val\n",
    "sub.to_csv('ENS_7.csv', index=False)"
   ]
  },
  {
   "cell_type": "code",
   "execution_count": 19,
   "id": "91f2535e",
   "metadata": {},
   "outputs": [
    {
     "data": {
      "text/plain": [
       "array([4795.1, 6896.2, 5737.9, ...,  609.9, 3529.9, 3854.2])"
      ]
     },
     "execution_count": 19,
     "metadata": {},
     "output_type": "execute_result"
    }
   ],
   "source": []
  },
  {
   "cell_type": "code",
   "execution_count": 23,
   "id": "9b92d25f",
   "metadata": {},
   "outputs": [],
   "source": [
    "fns = [\n",
    "    \"convnext_xlarge_384_in22ft1k_EXP_20_DATA_V10_V11_V12_NEG_13_14_16_17_360_128_V_16.csv\",\n",
    "    \"convnext_large_384_in22ft1k_EXP_20_DATA_V10_V11_V12_NEG_13_14_16_17_360_128_V_16_large.csv\"\n",
    "]\n",
    "\n"
   ]
  },
  {
   "cell_type": "code",
   "execution_count": 24,
   "id": "adb3bab9",
   "metadata": {},
   "outputs": [],
   "source": [
    "ens_val = pd.concat(read_multiple(fns), axis=1).rank(pct=True)\n",
    "ens_val = np.sum(ens_val.values * np.array([0.5, 0.5]), axis=1)\n",
    "sub = pd.read_csv(fns[0])\n",
    "sub['target'] = ens_val\n",
    "sub.to_csv('ENS_8.csv', index=False)"
   ]
  },
  {
   "cell_type": "code",
   "execution_count": 5,
   "id": "5dcc7109",
   "metadata": {},
   "outputs": [],
   "source": [
    "fns = [\n",
    "    \"ENS_7.csv\",\n",
    "    \"ENS_8.csv\"\n",
    "]\n",
    "\n",
    "ens_val = pd.concat(read_multiple(fns), axis=1).rank(pct=True)\n",
    "ens_val = np.sum(ens_val.values * np.array([0.5, 0.5]), axis=1)\n",
    "sub = pd.read_csv(fns[0])\n",
    "sub['target'] = ens_val\n",
    "sub.to_csv('ENS_8.csv', index=False)"
   ]
  },
  {
   "cell_type": "code",
   "execution_count": 6,
   "id": "7d4b124b",
   "metadata": {},
   "outputs": [],
   "source": [
    "fns = [\n",
    "    \"ENS_7.csv\",\n",
    "    \"ENS_8.csv\"\n",
    "]\n",
    "\n",
    "ens_val = pd.concat(read_multiple(fns), axis=1).rank(pct=True)\n",
    "ens_val = np.sum(ens_val.values * np.array([0.8, 0.2]), axis=1)\n",
    "sub = pd.read_csv(fns[0])\n",
    "sub['target'] = ens_val\n",
    "sub.to_csv('ENS_9.csv', index=False)"
   ]
  },
  {
   "cell_type": "code",
   "execution_count": 25,
   "id": "ed26fa1b",
   "metadata": {},
   "outputs": [],
   "source": [
    "fns = [\n",
    "    \"convnext_large_384_in22ft1k_EXP_20_05_DATA_V10_V11_V12_NEG_13_14_16_17_360_64_V_16_large.csv\",\n",
    "    \"convnext_xlarge_384_in22ft1k_LARGE_MODEL_BASELINE_DATA_V0_1_3_4_5_6_7_8_COMB_COMP_V5_360_256_MIXUP_CUTMIX_FT_360_64_5FOLD.csv\",\n",
    "    \"convnext_xlarge_384_in22ft1k_EXP_01_SPLITS_V0_MIXUP_AUG_NORMAL_AFTER_MEAN_5FOLD.csv\",\n",
    "    \"convnext_large_384_in22ft1k_EXP_20_DATA_V10_V11_V12_NEG_13_14_16_17_360_128_V_16_large_PSD.csv\"\n",
    "    \n",
    "    \n",
    "]"
   ]
  },
  {
   "cell_type": "code",
   "execution_count": 30,
   "id": "c496ee45",
   "metadata": {},
   "outputs": [],
   "source": [
    "ens_val = pd.concat(read_multiple(fns), axis=1).rank(pct=True)\n",
    "ens_val =ens_val.mean(1).values\n",
    "sub = pd.read_csv(fns[0])\n",
    "sub['target'] = ens_val\n",
    "sub.to_csv('ENS_10.csv', index=False)"
   ]
  },
  {
   "cell_type": "code",
   "execution_count": 31,
   "id": "51e4b837",
   "metadata": {},
   "outputs": [
    {
     "data": {
      "text/html": [
       "<div>\n",
       "<style scoped>\n",
       "    .dataframe tbody tr th:only-of-type {\n",
       "        vertical-align: middle;\n",
       "    }\n",
       "\n",
       "    .dataframe tbody tr th {\n",
       "        vertical-align: top;\n",
       "    }\n",
       "\n",
       "    .dataframe thead th {\n",
       "        text-align: right;\n",
       "    }\n",
       "</style>\n",
       "<table border=\"1\" class=\"dataframe\">\n",
       "  <thead>\n",
       "    <tr style=\"text-align: right;\">\n",
       "      <th></th>\n",
       "      <th>id</th>\n",
       "      <th>target</th>\n",
       "    </tr>\n",
       "  </thead>\n",
       "  <tbody>\n",
       "    <tr>\n",
       "      <th>0</th>\n",
       "      <td>00054c878</td>\n",
       "      <td>0.493856</td>\n",
       "    </tr>\n",
       "    <tr>\n",
       "      <th>1</th>\n",
       "      <td>0007285a3</td>\n",
       "      <td>0.853103</td>\n",
       "    </tr>\n",
       "    <tr>\n",
       "      <th>2</th>\n",
       "      <td>00076c5a6</td>\n",
       "      <td>0.472414</td>\n",
       "    </tr>\n",
       "    <tr>\n",
       "      <th>3</th>\n",
       "      <td>001349290</td>\n",
       "      <td>0.529624</td>\n",
       "    </tr>\n",
       "    <tr>\n",
       "      <th>4</th>\n",
       "      <td>001a52e92</td>\n",
       "      <td>0.738307</td>\n",
       "    </tr>\n",
       "    <tr>\n",
       "      <th>...</th>\n",
       "      <td>...</td>\n",
       "      <td>...</td>\n",
       "    </tr>\n",
       "    <tr>\n",
       "      <th>7970</th>\n",
       "      <td>ffbce04ef</td>\n",
       "      <td>0.839154</td>\n",
       "    </tr>\n",
       "    <tr>\n",
       "      <th>7971</th>\n",
       "      <td>ffc2d976b</td>\n",
       "      <td>0.341003</td>\n",
       "    </tr>\n",
       "    <tr>\n",
       "      <th>7972</th>\n",
       "      <td>ffc905909</td>\n",
       "      <td>0.097868</td>\n",
       "    </tr>\n",
       "    <tr>\n",
       "      <th>7973</th>\n",
       "      <td>ffe276f3e</td>\n",
       "      <td>0.385831</td>\n",
       "    </tr>\n",
       "    <tr>\n",
       "      <th>7974</th>\n",
       "      <td>fffa17f67</td>\n",
       "      <td>0.430282</td>\n",
       "    </tr>\n",
       "  </tbody>\n",
       "</table>\n",
       "<p>7975 rows × 2 columns</p>\n",
       "</div>"
      ],
      "text/plain": [
       "             id    target\n",
       "0     00054c878  0.493856\n",
       "1     0007285a3  0.853103\n",
       "2     00076c5a6  0.472414\n",
       "3     001349290  0.529624\n",
       "4     001a52e92  0.738307\n",
       "...         ...       ...\n",
       "7970  ffbce04ef  0.839154\n",
       "7971  ffc2d976b  0.341003\n",
       "7972  ffc905909  0.097868\n",
       "7973  ffe276f3e  0.385831\n",
       "7974  fffa17f67  0.430282\n",
       "\n",
       "[7975 rows x 2 columns]"
      ]
     },
     "execution_count": 31,
     "metadata": {},
     "output_type": "execute_result"
    }
   ],
   "source": [
    "sub"
   ]
  },
  {
   "cell_type": "code",
   "execution_count": 8,
   "id": "37f8a193",
   "metadata": {},
   "outputs": [],
   "source": [
    "fns = [\n",
    "    \"convnext_large_384_in22ft1k_EXP_20_05_DATA_V10_V11_V12_NEG_13_14_16_17_360_64_V_16_large.csv\",\n",
    "    \"convnext_xlarge_384_in22ft1k_LARGE_MODEL_BASELINE_DATA_V0_1_3_4_5_6_7_8_COMB_COMP_V5_360_256_MIXUP_CUTMIX_FT_360_64_5FOLD.csv\",\n",
    "    \"convnext_xlarge_384_in22ft1k_EXP_01_SPLITS_V0_MIXUP_AUG_NORMAL_AFTER_MEAN_5FOLD.csv\",\n",
    "    \"convnext_large_384_in22ft1k_EXP_20_DATA_V10_V11_V12_NEG_13_14_16_17_360_128_V_16_large_PSD.csv\",\n",
    "    \"convnext_large_384_in22ft1k_EXP_30_00_convnext_large_384_in22ft1k_V_17_True.csv\"\n",
    "    \n",
    "    \n",
    "]\n",
    "\n",
    "ens_val = pd.concat(read_multiple(fns), axis=1).rank(pct=True)"
   ]
  },
  {
   "cell_type": "code",
   "execution_count": 10,
   "id": "0d6bf066",
   "metadata": {},
   "outputs": [
    {
     "data": {
      "text/html": [
       "<div>\n",
       "<style scoped>\n",
       "    .dataframe tbody tr th:only-of-type {\n",
       "        vertical-align: middle;\n",
       "    }\n",
       "\n",
       "    .dataframe tbody tr th {\n",
       "        vertical-align: top;\n",
       "    }\n",
       "\n",
       "    .dataframe thead th {\n",
       "        text-align: right;\n",
       "    }\n",
       "</style>\n",
       "<table border=\"1\" class=\"dataframe\">\n",
       "  <thead>\n",
       "    <tr style=\"text-align: right;\">\n",
       "      <th></th>\n",
       "      <th>target</th>\n",
       "      <th>target</th>\n",
       "      <th>target</th>\n",
       "      <th>target</th>\n",
       "      <th>target</th>\n",
       "    </tr>\n",
       "  </thead>\n",
       "  <tbody>\n",
       "    <tr>\n",
       "      <th>target</th>\n",
       "      <td>1.000000</td>\n",
       "      <td>0.611289</td>\n",
       "      <td>0.590861</td>\n",
       "      <td>0.611894</td>\n",
       "      <td>0.632243</td>\n",
       "    </tr>\n",
       "    <tr>\n",
       "      <th>target</th>\n",
       "      <td>0.611289</td>\n",
       "      <td>1.000000</td>\n",
       "      <td>0.764762</td>\n",
       "      <td>0.803933</td>\n",
       "      <td>0.701237</td>\n",
       "    </tr>\n",
       "    <tr>\n",
       "      <th>target</th>\n",
       "      <td>0.590861</td>\n",
       "      <td>0.764762</td>\n",
       "      <td>1.000000</td>\n",
       "      <td>0.789885</td>\n",
       "      <td>0.714554</td>\n",
       "    </tr>\n",
       "    <tr>\n",
       "      <th>target</th>\n",
       "      <td>0.611894</td>\n",
       "      <td>0.803933</td>\n",
       "      <td>0.789885</td>\n",
       "      <td>1.000000</td>\n",
       "      <td>0.790269</td>\n",
       "    </tr>\n",
       "    <tr>\n",
       "      <th>target</th>\n",
       "      <td>0.632243</td>\n",
       "      <td>0.701237</td>\n",
       "      <td>0.714554</td>\n",
       "      <td>0.790269</td>\n",
       "      <td>1.000000</td>\n",
       "    </tr>\n",
       "  </tbody>\n",
       "</table>\n",
       "</div>"
      ],
      "text/plain": [
       "          target    target    target    target    target\n",
       "target  1.000000  0.611289  0.590861  0.611894  0.632243\n",
       "target  0.611289  1.000000  0.764762  0.803933  0.701237\n",
       "target  0.590861  0.764762  1.000000  0.789885  0.714554\n",
       "target  0.611894  0.803933  0.789885  1.000000  0.790269\n",
       "target  0.632243  0.701237  0.714554  0.790269  1.000000"
      ]
     },
     "execution_count": 10,
     "metadata": {},
     "output_type": "execute_result"
    }
   ],
   "source": [
    "ens_val.corr()"
   ]
  },
  {
   "cell_type": "code",
   "execution_count": 3,
   "id": "6d5520ab",
   "metadata": {},
   "outputs": [],
   "source": []
  },
  {
   "cell_type": "code",
   "execution_count": 17,
   "id": "28f5f405",
   "metadata": {},
   "outputs": [],
   "source": [
    "df = pd.read_csv('ENS_10.csv').set_index('id')\n",
    "df.loc[pos] = 0.0001\n",
    "df.to_csv('ENS_10_neg.csv')"
   ]
  },
  {
   "cell_type": "code",
   "execution_count": null,
   "id": "e9e9d072",
   "metadata": {},
   "outputs": [],
   "source": []
  },
  {
   "cell_type": "code",
   "execution_count": 20,
   "id": "fa43a355",
   "metadata": {},
   "outputs": [],
   "source": [
    "fns = [\n",
    "    \"convnext_large_384_in22ft1k_EXP_20_05_DATA_V10_V11_V12_NEG_13_14_16_17_360_64_V_16_large.csv\",\n",
    "    \"convnext_xlarge_384_in22ft1k_LARGE_MODEL_BASELINE_DATA_V0_1_3_4_5_6_7_8_COMB_COMP_V5_360_256_MIXUP_CUTMIX_FT_360_64_5FOLD.csv\",\n",
    "    \"convnext_xlarge_384_in22ft1k_EXP_01_SPLITS_V0_MIXUP_AUG_NORMAL_AFTER_MEAN_5FOLD.csv\",\n",
    "    \"convnext_large_384_in22ft1k_EXP_20_DATA_V10_V11_V12_NEG_13_14_16_17_360_128_V_16_large_PSD.csv\",\n",
    "    \"convnext_large_384_in22ft1k_EXP_30_00_convnext_large_384_in22ft1k_V_17_True.csv\"\n",
    "    \n",
    "    \n",
    "]\n",
    "\n",
    "ens_val = pd.concat(read_multiple(fns), axis=1)\n",
    "ens_val.loc[pos] = 0.9999\n",
    "ens_val.loc[neg] = 0.001\n",
    "ens_val = ens_val.rank(pct=True).mean(1).values\n",
    "sub = pd.read_csv(fns[0])\n",
    "sub['target'] = ens_val\n",
    "sub.to_csv('ENS_12.csv', index=False)"
   ]
  },
  {
   "cell_type": "code",
   "execution_count": 13,
   "id": "3a2265bd",
   "metadata": {},
   "outputs": [],
   "source": []
  },
  {
   "cell_type": "code",
   "execution_count": 18,
   "id": "69f45862",
   "metadata": {},
   "outputs": [
    {
     "data": {
      "text/plain": [
       "id\n",
       "00054c878    0.553078\n",
       "0007285a3    0.844439\n",
       "00076c5a6    0.508339\n",
       "001349290    0.499712\n",
       "001a52e92    0.735649\n",
       "               ...   \n",
       "ffbce04ef    0.826132\n",
       "ffc2d976b    0.308840\n",
       "ffc905909    0.158796\n",
       "ffe276f3e    0.474433\n",
       "fffa17f67    0.432627\n",
       "Length: 7975, dtype: float64"
      ]
     },
     "execution_count": 18,
     "metadata": {},
     "output_type": "execute_result"
    }
   ],
   "source": []
  },
  {
   "cell_type": "code",
   "execution_count": 21,
   "id": "611a0fb7",
   "metadata": {},
   "outputs": [],
   "source": [
    "fns = [\n",
    "    \"ENS_11.csv\",\n",
    "    \"submission_debias.csv\"\n",
    "    \n",
    "    \n",
    "]\n",
    "ens_val = pd.concat(read_multiple(fns), axis=1).rank(pct=True)\n",
    "ens_val = np.sum(ens_val.values * np.array([0.3, 0.7]), axis=1)\n",
    "sub = pd.read_csv(fns[0])\n",
    "sub['target'] = ens_val\n",
    "sub.to_csv('ENS_15.csv', index=False)"
   ]
  },
  {
   "cell_type": "code",
   "execution_count": 17,
   "id": "34636af5",
   "metadata": {},
   "outputs": [],
   "source": []
  },
  {
   "cell_type": "code",
   "execution_count": 18,
   "id": "36409cbc",
   "metadata": {},
   "outputs": [
    {
     "data": {
      "text/html": [
       "<div>\n",
       "<style scoped>\n",
       "    .dataframe tbody tr th:only-of-type {\n",
       "        vertical-align: middle;\n",
       "    }\n",
       "\n",
       "    .dataframe tbody tr th {\n",
       "        vertical-align: top;\n",
       "    }\n",
       "\n",
       "    .dataframe thead th {\n",
       "        text-align: right;\n",
       "    }\n",
       "</style>\n",
       "<table border=\"1\" class=\"dataframe\">\n",
       "  <thead>\n",
       "    <tr style=\"text-align: right;\">\n",
       "      <th></th>\n",
       "      <th>target</th>\n",
       "      <th>target</th>\n",
       "    </tr>\n",
       "  </thead>\n",
       "  <tbody>\n",
       "    <tr>\n",
       "      <th>target</th>\n",
       "      <td>1.000000</td>\n",
       "      <td>0.685581</td>\n",
       "    </tr>\n",
       "    <tr>\n",
       "      <th>target</th>\n",
       "      <td>0.685581</td>\n",
       "      <td>1.000000</td>\n",
       "    </tr>\n",
       "  </tbody>\n",
       "</table>\n",
       "</div>"
      ],
      "text/plain": [
       "          target    target\n",
       "target  1.000000  0.685581\n",
       "target  0.685581  1.000000"
      ]
     },
     "execution_count": 18,
     "metadata": {},
     "output_type": "execute_result"
    }
   ],
   "source": [
    "ens_val.corr()"
   ]
  },
  {
   "cell_type": "code",
   "execution_count": 22,
   "id": "813de2f2",
   "metadata": {},
   "outputs": [],
   "source": [
    "fns = [\n",
    "    \"ENS_11.csv\",\n",
    "    \"submission_debias.csv\"\n",
    "    \n",
    "    \n",
    "]\n",
    "ens_val = pd.concat(read_multiple(fns), axis=1).rank(pct=True)\n",
    "ens_val = np.sum(ens_val.values * np.array([0.2, 0.8]), axis=1)\n",
    "sub = pd.read_csv(fns[0])\n",
    "sub['target'] = ens_val\n",
    "sub.to_csv('ENS_16.csv', index=False)"
   ]
  },
  {
   "cell_type": "code",
   "execution_count": 4,
   "id": "fa4cda83",
   "metadata": {},
   "outputs": [],
   "source": [
    "fns = [\n",
    "    \"ENS_11.csv\",\n",
    "    \"submission_debias.csv\"\n",
    "    \n",
    "    \n",
    "]\n",
    "ens_val = pd.concat(read_multiple(fns), axis=1).rank(pct=True)\n",
    "ens_val = np.sum(ens_val.values * np.array([0.1, 0.9]), axis=1)\n",
    "sub = pd.read_csv(fns[0])\n",
    "sub['target'] = ens_val\n",
    "sub.to_csv('ENS_17.csv', index=False)"
   ]
  },
  {
   "cell_type": "code",
   "execution_count": null,
   "id": "948e2d04",
   "metadata": {},
   "outputs": [],
   "source": []
  }
 ],
 "metadata": {
  "kernelspec": {
   "display_name": "Python 3 (ipykernel)",
   "language": "python",
   "name": "python3"
  },
  "language_info": {
   "codemirror_mode": {
    "name": "ipython",
    "version": 3
   },
   "file_extension": ".py",
   "mimetype": "text/x-python",
   "name": "python",
   "nbconvert_exporter": "python",
   "pygments_lexer": "ipython3",
   "version": "3.8.13"
  }
 },
 "nbformat": 4,
 "nbformat_minor": 5
}
