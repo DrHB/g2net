{
 "cells": [
  {
   "cell_type": "code",
   "execution_count": 11,
   "id": "55a8458d",
   "metadata": {},
   "outputs": [],
   "source": [
    "import pandas as pd\n",
    "from pathlib import Path\n",
    "import numpy as np"
   ]
  },
  {
   "cell_type": "code",
   "execution_count": 12,
   "id": "4eb8b3a3",
   "metadata": {},
   "outputs": [
    {
     "name": "stdout",
     "output_type": "stream",
     "text": [
      "ENS.ipynb\r\n",
      "ENS_6.csv\r\n",
      "convnext_xlarge_384_in22ft1k_EXP_10_DATA_V10_V11_V12_360_128.csv\r\n",
      "convnext_xlarge_384_in22ft1k_EXP_10_DATA_V10_V11_V12_360_128_nomean_normalizer.csv\r\n",
      "convnext_xlarge_384_in22ft1k_EXP_10_DATA_V10_V11_V12_360_64_nomean_normalizer.csv\r\n",
      "convnext_xlarge_384_in22ft1k_LARGE_MODEL_BASELINE_DATA_V0_1_3_4_5_6_7_8_COMB_COMP_V5_360_256_MIXUP_CUTMIX_FT_360_64_5FOLD.csv\r\n"
     ]
    }
   ],
   "source": [
    "!ls"
   ]
  },
  {
   "cell_type": "code",
   "execution_count": 13,
   "id": "ccca3db2",
   "metadata": {},
   "outputs": [],
   "source": [
    "fns = [\n",
    "    \"convnext_xlarge_384_in22ft1k_EXP_10_DATA_V10_V11_V12_360_128.csv\",\n",
    "    \"convnext_xlarge_384_in22ft1k_LARGE_MODEL_BASELINE_DATA_V0_1_3_4_5_6_7_8_COMB_COMP_V5_360_256_MIXUP_CUTMIX_FT_360_64_5FOLD.csv\"\n",
    "]\n",
    "\n",
    "def read_multiple(fns):\n",
    "    dfs = [pd.read_csv(i).set_index('id') for i in fns]\n",
    "    return dfs"
   ]
  },
  {
   "cell_type": "code",
   "execution_count": 14,
   "id": "5f3e9057",
   "metadata": {},
   "outputs": [],
   "source": [
    "#ens_val = pd.concat(read_multiple(fns), axis=1).rank().mean(axis=1).values\n",
    "#sub = pd.read_csv(fns[0])\n",
    "#sub['target'] = ens_val\n",
    "#sub.to_csv('ENS_6.csv', index=False)"
   ]
  },
  {
   "cell_type": "code",
   "execution_count": null,
   "id": "910a2243",
   "metadata": {},
   "outputs": [],
   "source": [
    "ens_val = pd.concat(read_multiple(fns), axis=1).rank()\n",
    "ens_val = np.sum(ens_val.values * np.array([0.3, 0.7]), axis=1)\n",
    "sub = pd.read_csv(fns[0])\n",
    "sub['target'] = ens_val\n",
    "sub.to_csv('ENS_7.csv', index=False)"
   ]
  },
  {
   "cell_type": "code",
   "execution_count": 19,
   "id": "91f2535e",
   "metadata": {},
   "outputs": [
    {
     "data": {
      "text/plain": [
       "array([4795.1, 6896.2, 5737.9, ...,  609.9, 3529.9, 3854.2])"
      ]
     },
     "execution_count": 19,
     "metadata": {},
     "output_type": "execute_result"
    }
   ],
   "source": []
  },
  {
   "cell_type": "code",
   "execution_count": null,
   "id": "9b92d25f",
   "metadata": {},
   "outputs": [],
   "source": []
  }
 ],
 "metadata": {
  "kernelspec": {
   "display_name": "Python 3 (ipykernel)",
   "language": "python",
   "name": "python3"
  },
  "language_info": {
   "codemirror_mode": {
    "name": "ipython",
    "version": 3
   },
   "file_extension": ".py",
   "mimetype": "text/x-python",
   "name": "python",
   "nbconvert_exporter": "python",
   "pygments_lexer": "ipython3",
   "version": "3.8.13"
  }
 },
 "nbformat": 4,
 "nbformat_minor": 5
}
