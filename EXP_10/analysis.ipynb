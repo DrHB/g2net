{
 "cells": [
  {
   "cell_type": "code",
   "execution_count": null,
   "id": "53e5c8af",
   "metadata": {},
   "outputs": [],
   "source": [
    "from sklearn.metrics import roc_auc_score\n",
    "import pandas as pd\n",
    "from pathlib import Path\n",
    "import numpy as np\n",
    "import matplotlib.pyplot as plt\n",
    "%matplotlib inline\n",
    "import h5py\n",
    "from tqdm import tqdm\n",
    "\n",
    "def scale_data(data):\n",
    "     return (data-np.min(data))/(np.max(data)-np.min(data))\n",
    "\n",
    "class DataV0():\n",
    "    \"\"\"\n",
    "    dataset = Dataset(data_type, df)\n",
    "\n",
    "    img, y = dataset[i]\n",
    "      img (np.float32): 2 x 360 x 128\n",
    "      y (np.float32): label 0 or 1\n",
    "    \"\"\"\n",
    "    def __init__(self, df, freq_tfms=False):\n",
    "        self.df = df\n",
    "        self.freq_tfms = freq_tfms\n",
    "        \n",
    "\n",
    "    def __len__(self):\n",
    "        return len(self.df)\n",
    "\n",
    "    def __getitem__(self, i):\n",
    "        \"\"\"\n",
    "        i (int): get ith data\n",
    "        \"\"\"\n",
    "        r = self.df.iloc[i]\n",
    "        y = np.float32(r.target)\n",
    "        try:\n",
    "            print(y, r.pred)\n",
    "        except:\n",
    "            pass\n",
    "        filename=r.id\n",
    "        file_id = Path(r.id).stem\n",
    "        img = np.empty((2, 360, 128), dtype=np.float32)\n",
    "        with h5py.File(filename, 'r') as f:\n",
    "            g = f[file_id]\n",
    "\n",
    "            for ch, s in enumerate(['H1', 'L1']):\n",
    "                a = g[s]['SFTs'][:, :4096] * 1e22  # Fourier coefficient complex64\n",
    "\n",
    "                p = a.real**2 + a.imag**2  # power\n",
    "                p /= np.mean(p)  # normalize\n",
    "                p = np.mean(p.reshape(360, 128, 32), axis=2)  # compress 4096 -> 128\n",
    "                #print(p.min(), p.max())\n",
    "                #p = scale_data(p)\n",
    "                img[ch] = p\n",
    "        if self.freq_tfms:\n",
    "            if np.random.rand()>0.5:\n",
    "                img = self.freq_tfms(img)\n",
    "\n",
    "        return img, y.astype('int')"
   ]
  },
  {
   "cell_type": "code",
   "execution_count": 32,
   "id": "4b53c254",
   "metadata": {},
   "outputs": [],
   "source": [
    "def read_file(fn='EXP_10_06/EXP_10_DATA_V10_V11_V12_13_14_15_16_17_18_360_128_0_2_oof.csv'):\n",
    "    df=  pd.read_csv(fn)\n",
    "    df['data_folder'] = df['id_csv'].apply(lambda x: Path(x).parent.parent.stem)\n",
    "    return df"
   ]
  },
  {
   "cell_type": "code",
   "execution_count": 33,
   "id": "28b04d80",
   "metadata": {},
   "outputs": [
    {
     "name": "stdout",
     "output_type": "stream",
     "text": [
      "0.7951940624999999\n"
     ]
    },
    {
     "data": {
      "text/plain": [
       "<AxesSubplot:ylabel='Frequency'>"
      ]
     },
     "execution_count": 33,
     "metadata": {},
     "output_type": "execute_result"
    },
    {
     "data": {
      "image/png": "[encoded data removed]",
      "text/plain": [
       "<Figure size 432x288 with 1 Axes>"
      ]
     },
     "metadata": {
      "needs_background": "light"
     },
     "output_type": "display_data"
    }
   ],
   "source": [
    "exp_10_06 = read_file()\n",
    "print(roc_auc_score(exp_10_06['target'], exp_10_06['pred']))\n",
    "exp_10_06[['target', 'pred']].plot.hist(alpha=0.5)"
   ]
  },
  {
   "cell_type": "code",
   "execution_count": 34,
   "id": "b9bab536",
   "metadata": {},
   "outputs": [
    {
     "name": "stdout",
     "output_type": "stream",
     "text": [
      "0.7569033333333335\n"
     ]
    },
    {
     "data": {
      "text/plain": [
       "<AxesSubplot:ylabel='Frequency'>"
      ]
     },
     "execution_count": 34,
     "metadata": {},
     "output_type": "execute_result"
    },
    {
     "data": {
      "image/png": "[encoded data removed]",
      "text/plain": [
       "<Figure size 432x288 with 1 Axes>"
      ]
     },
     "metadata": {
      "needs_background": "light"
     },
     "output_type": "display_data"
    }
   ],
   "source": [
    "exp_10_07 = read_file(\n",
    "    \"EXP_10_08/EXP_10_DATA_V10_V11_V12_NEG_13_14_16_17_360_128_V_15_0_2_oof.csv\"\n",
    ")\n",
    "print(roc_auc_score(exp_10_07[\"target\"], exp_10_07[\"pred\"]))\n",
    "exp_10_07[[\"target\", \"pred\"]].plot.hist(alpha=0.5)"
   ]
  },
  {
   "cell_type": "code",
   "execution_count": 30,
   "id": "2f6662ef",
   "metadata": {},
   "outputs": [
    {
     "data": {
      "text/plain": [
       "0.5967086144265698"
      ]
     },
     "execution_count": 30,
     "metadata": {},
     "output_type": "execute_result"
    }
   ],
   "source": [
    "roc_auc_score(exp_10_07.query('snr<40')['target'], exp_10_07.query('snr<40')['pred'])"
   ]
  },
  {
   "cell_type": "code",
   "execution_count": 28,
   "id": "4a652ea8",
   "metadata": {},
   "outputs": [
    {
     "data": {
      "text/plain": [
       "<AxesSubplot:ylabel='Frequency'>"
      ]
     },
     "execution_count": 28,
     "metadata": {},
     "output_type": "execute_result"
    },
    {
     "data": {
      "image/png": "[encoded data removed]",
      "text/plain": [
       "<Figure size 432x288 with 1 Axes>"
      ]
     },
     "metadata": {
      "needs_background": "light"
     },
     "output_type": "display_data"
    }
   ],
   "source": [
    "exp_10_07.query('snr<100')[['target', 'pred']].plot.hist()"
   ]
  },
  {
   "cell_type": "code",
   "execution_count": null,
   "id": "64d8f4ca",
   "metadata": {},
   "outputs": [],
   "source": [
    "exp_10_07.query(\"target==1\").query(\"pred<0.4\")[\n",
    "    [\"target\", \"pred\", \"data_folder\", \"snr\"]\n",
    "][\"data_folder\"].value_counts()"
   ]
  },
  {
   "cell_type": "code",
   "execution_count": null,
   "id": "5e680319",
   "metadata": {},
   "outputs": [],
   "source": [
    "exp_10_07.query(\"target==0\")[['target', 'pred']].plot.hist()"
   ]
  },
  {
   "cell_type": "code",
   "execution_count": null,
   "id": "b25830ff",
   "metadata": {},
   "outputs": [],
   "source": [
    "exp_10_07.query(\"target==0\")"
   ]
  },
  {
   "cell_type": "code",
   "execution_count": null,
   "id": "54cdf43d",
   "metadata": {},
   "outputs": [],
   "source": [
    "exp_10_07.query(\"target==0\")[\n",
    "    [\"target\", \"pred\",]].plot.hist()"
   ]
  },
  {
   "cell_type": "code",
   "execution_count": null,
   "id": "d4b959fb",
   "metadata": {},
   "outputs": [],
   "source": [
    "exp_10_07.query(\"target==0\").query(\"pred>0.3\")[\n",
    "    [\"target\", \"pred\", \"data_folder\", \"snr\"]\n",
    "]"
   ]
  },
  {
   "cell_type": "code",
   "execution_count": null,
   "id": "2a3b39a1",
   "metadata": {},
   "outputs": [],
   "source": [
    "exp_10_07"
   ]
  },
  {
   "cell_type": "code",
   "execution_count": null,
   "id": "410d0a79",
   "metadata": {
    "scrolled": true
   },
   "outputs": [],
   "source": [
    "#dataset =  DataV0(df.query(\"snr>0\").query('data_folder==\"DATA_V12\"').reset_index(drop=True))\n",
    "dataset = DataV0(exp_10_07.query(\"target==1\").query('snr>40 & pred<0.8').reset_index(drop=True))\n",
    "for i in range(100):\n",
    "    img, y = dataset[np.random.randint(0, len(dataset))]\n",
    "    #img, y = dataset[i]\n",
    "    plt.figure(figsize=(8, 8))\n",
    "    plt.title('Spectrogram')\n",
    "    plt.xlabel('time')\n",
    "    plt.ylabel('frequency')\n",
    "    plt.imshow(np.concatenate([img[0], img[1]], 1))  # zooming in for dataset[10]\n",
    "    plt.colorbar()\n",
    "    plt.show()\n",
    "    print(y)\n",
    "    plt.pause(0.1)\n",
    "\n",
    "    "
   ]
  },
  {
   "cell_type": "code",
   "execution_count": null,
   "id": "4319aac8",
   "metadata": {},
   "outputs": [],
   "source": [
    "#submit = pd.read_csv('../data/sample_submission.csv')\n",
    "#submit.columns = ['fn', 'target']\n",
    "#submit['fn'] = submit['fn'].apply(lambda x: Path('../data/test')/f'{x}.hdf5')\n",
    "#submit.columns = ['id', 'target']"
   ]
  },
  {
   "cell_type": "code",
   "execution_count": null,
   "id": "ab53608f",
   "metadata": {},
   "outputs": [],
   "source": [
    "##dataset =  DataV0(df.query(\"snr>0\").query('data_folder==\"DATA_V12\"').reset_index(drop=True))\n",
    "#min_values = []\n",
    "#max_values = []\n",
    "#mean_values = []\n",
    "#ds = DataV0(submit)\n",
    "#for i in tqdm(range(len(ds))):\n",
    "#    x = ds[i][0]\n",
    "#    min_values.append(x.min())\n",
    "#    max_values.append(x.max())\n",
    "#    mean_values.append(x.mean())"
   ]
  },
  {
   "cell_type": "code",
   "execution_count": null,
   "id": "dfacbf2c",
   "metadata": {},
   "outputs": [],
   "source": [
    "x.min()"
   ]
  },
  {
   "cell_type": "code",
   "execution_count": null,
   "id": "355dc05c",
   "metadata": {},
   "outputs": [],
   "source": [
    "x.max()"
   ]
  },
  {
   "cell_type": "code",
   "execution_count": null,
   "id": "ecbb6edd",
   "metadata": {},
   "outputs": [],
   "source": []
  }
 ],
 "metadata": {
  "kernelspec": {
   "display_name": "Python 3 (ipykernel)",
   "language": "python",
   "name": "python3"
  },
  "language_info": {
   "codemirror_mode": {
    "name": "ipython",
    "version": 3
   },
   "file_extension": ".py",
   "mimetype": "text/x-python",
   "name": "python",
   "nbconvert_exporter": "python",
   "pygments_lexer": "ipython3",
   "version": "3.8.13"
  }
 },
 "nbformat": 4,
 "nbformat_minor": 5
}
