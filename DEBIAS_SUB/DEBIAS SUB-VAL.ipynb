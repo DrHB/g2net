{
 "cells": [
  {
   "cell_type": "code",
   "execution_count": null,
   "id": "3c06bd6c",
   "metadata": {},
   "outputs": [],
   "source": [
    "import gc, glob, os\n",
    "from concurrent.futures import ProcessPoolExecutor\n",
    "\n",
    "import h5py\n",
    "import numpy as np\n",
    "import pandas as pd\n",
    "import torch\n",
    "import torch.nn as nn\n",
    "from scipy.stats import norm\n",
    "from timm import create_model\n",
    "from tqdm import tqdm\n",
    "from pathlib import Path\n",
    "from joblib import Parallel, delayed\n",
    "from pdb import set_trace\n",
    "\n",
    "\n",
    "def normalize(X):\n",
    "    X = (X[..., None].view(X.real.dtype) ** 2).sum(-1)\n",
    "    POS = int(X.size * 0.99903)\n",
    "    EXP = norm.ppf((POS + 0.4) / (X.size + 0.215))\n",
    "    scale = np.partition(X.flatten(), POS, -1)[POS]\n",
    "    X /= scale / EXP.astype(scale.dtype) ** 2\n",
    "    return X\n",
    "\n",
    "\n",
    "def dataload(filepath):\n",
    "    astime = np.full([2, 360, 5760], np.nan, dtype=np.float32)\n",
    "    with h5py.File(filepath, \"r\") as f:\n",
    "        fid, _ = os.path.splitext(os.path.split(filepath)[1])\n",
    "        HT = (\n",
    "            (np.asarray(f[fid][\"H1\"][\"timestamps_GPS\"]) / 1800).round().astype(np.int64)\n",
    "        )\n",
    "        LT = (\n",
    "            (np.asarray(f[fid][\"L1\"][\"timestamps_GPS\"]) / 1800).round().astype(np.int64)\n",
    "        )\n",
    "        MIN = min(HT.min(), LT.min())\n",
    "        HT -= MIN\n",
    "        LT -= MIN\n",
    "        H1 = normalize(np.asarray(f[fid][\"H1\"][\"SFTs\"], np.complex128))\n",
    "        valid = HT < 5760\n",
    "        astime[0][:, HT[valid]] = H1[:, valid]\n",
    "        L1 = normalize(np.asarray(f[fid][\"L1\"][\"SFTs\"], np.complex128))\n",
    "        valid = LT < 5760\n",
    "        astime[1][:, LT[valid]] = L1[:, valid]\n",
    "    gc.collect()\n",
    "    return fid, astime, H1.mean(), L1.mean()\n",
    "\n",
    "\n",
    "class LargeKernel_debias(nn.Conv2d):\n",
    "    def forward(self, input: torch.Tensor):\n",
    "        finput = input.flatten(0, 1)[:, None]\n",
    "        target = abs(self.weight)\n",
    "        target = target / target.sum((-1, -2), True)\n",
    "        joined_kernel = torch.cat([self.weight, target], 0)\n",
    "        reals = target.new_zeros(\n",
    "            [1, 1] + [s + p * 2 for p, s in zip(self.padding, input.shape[-2:])]\n",
    "        )\n",
    "        reals[\n",
    "            [slice(None)] * 2\n",
    "            + [slice(p, -p) if p != 0 else slice(None) for p in self.padding]\n",
    "        ].fill_(1)\n",
    "        output, power = torch.nn.functional.conv2d(\n",
    "            finput, joined_kernel, padding=self.padding\n",
    "        ).chunk(2, 1)\n",
    "        ratio = torch.div(*torch.nn.functional.conv2d(reals, joined_kernel).chunk(2, 1))\n",
    "        output.sub_(power.mul_(ratio))\n",
    "        return output.unflatten(0, input.shape[:2]).flatten(1, 2)\n",
    "\n",
    "\n",
    "def preprocess(num, input, H1, L1):\n",
    "    input = torch.from_numpy(input).to(\"cuda\", non_blocking=True)\n",
    "    rescale = torch.tensor([[H1, L1]]).to(\"cuda\", non_blocking=True)\n",
    "    tta = (\n",
    "        torch.randn([num, *input.shape, 2], device=input.device, dtype=torch.float32)\n",
    "        .square_()\n",
    "        .sum(-1)\n",
    "    )\n",
    "    tta *= rescale[..., None, None] / 2\n",
    "    valid = ~torch.isnan(input)\n",
    "    tta[:, valid] = input[valid].float()\n",
    "    return tta\n",
    "\n",
    "\n",
    "def get_model(path):\n",
    "    model = create_model(\n",
    "        \"tf_efficientnetv2_b0\",\n",
    "        in_chans=32,\n",
    "        num_classes=2,\n",
    "    )\n",
    "    state_dict = torch.load(path)\n",
    "    C, _, H, W = state_dict[\"conv_stem.2.weight\"].shape\n",
    "    print(C, _, H, W)\n",
    "    model.conv_stem = nn.Sequential(\n",
    "        nn.Identity(),\n",
    "        nn.AvgPool2d((1, 9), (1, 8), (0, 4), count_include_pad=False),\n",
    "        LargeKernel_debias(1, C, [H, W], 1, [H // 2, W // 2], 1, 1, False),\n",
    "        model.conv_stem,\n",
    "    )\n",
    "    model.load_state_dict(state_dict)\n",
    "    model.cuda().eval()\n",
    "    return model\n",
    "\n",
    "\n",
    "@torch.no_grad()\n",
    "def inference(model, file_path):\n",
    "    FID, RES = [], []\n",
    "    with ProcessPoolExecutor(2) as pool:\n",
    "        for fid, input, H1, L1 in tqdm(pool.map(dataload, file_path)):\n",
    "            tta = preprocess(16, input, H1, L1)\n",
    "            FID += [fid]\n",
    "            RES += [model(tta).sigmoid().mean(0)]\n",
    "    return FID, torch.stack(RES, 0).cpu().float().numpy()"
   ]
  },
  {
   "cell_type": "code",
   "execution_count": null,
   "id": "c1745fc2",
   "metadata": {},
   "outputs": [],
   "source": [
    "df = pd.read_csv('../data/SPLITS/V_20.csv')\n",
    "fns = df['id'].to_list()"
   ]
  },
  {
   "cell_type": "code",
   "execution_count": null,
   "id": "e65fc9e3",
   "metadata": {},
   "outputs": [],
   "source": [
    "len(fns)"
   ]
  },
  {
   "cell_type": "code",
   "execution_count": null,
   "id": "78eb26f6",
   "metadata": {},
   "outputs": [],
   "source": [
    "model = get_model(\"../DEBIAS_SUB/model_best.pth\")\n",
    "model.classifier = nn.Linear(in_features=1280, out_features=1, bias=True)\n",
    "model.load_state_dict(torch.load('../EXP_50/EXP_50_00_PSD/EXP_50_00_PSD_tf_efficientnetv2_b0_V_20_False_POS_0_8.pth'))\n",
    "model.cuda();\n",
    "model.eval();\n",
    "\n",
    "\n",
    "fid, infer = inference(model, fns)\n",
    "result = pd.DataFrame.from_dict({\"id\": fid, \"target\": infer.reshape(-1)})"
   ]
  },
  {
   "cell_type": "code",
   "execution_count": null,
   "id": "7f1a107f",
   "metadata": {},
   "outputs": [],
   "source": [
    "result"
   ]
  },
  {
   "cell_type": "code",
   "execution_count": null,
   "id": "e928b370",
   "metadata": {},
   "outputs": [],
   "source": [
    "from sklearn.metrics import roc_auc_score"
   ]
  },
  {
   "cell_type": "code",
   "execution_count": null,
   "id": "5753faeb",
   "metadata": {},
   "outputs": [],
   "source": [
    "df['id'] = df['id'].apply(lambda x: Path(x).stem)"
   ]
  },
  {
   "cell_type": "code",
   "execution_count": null,
   "id": "e9725864",
   "metadata": {},
   "outputs": [],
   "source": [
    "final = pd.merge(df, result, on='id')"
   ]
  },
  {
   "cell_type": "code",
   "execution_count": null,
   "id": "8d82a1e3",
   "metadata": {},
   "outputs": [],
   "source": [
    "temp = final.query('snr<50')"
   ]
  },
  {
   "cell_type": "code",
   "execution_count": null,
   "id": "cbb4f66e",
   "metadata": {},
   "outputs": [],
   "source": [
    "roc_auc_score(temp['target_x'], temp['target_y'])"
   ]
  },
  {
   "cell_type": "code",
   "execution_count": null,
   "id": "4d7b10f1",
   "metadata": {},
   "outputs": [],
   "source": []
  },
  {
   "cell_type": "code",
   "execution_count": null,
   "id": "21187988",
   "metadata": {},
   "outputs": [],
   "source": [
    "def save_pytorch_dict(fn):\n",
    "    fid, input, H1, L1 = dataload(fn)\n",
    "    tta = preprocess(1, input, H1, L1)[0].cpu()\n",
    "    save_name = str(fn).replace(Path(fn).suffix, '.pth')\n",
    "    torch.save(tta, save_name)\n",
    "    #return tta, save_name      "
   ]
  },
  {
   "cell_type": "code",
   "execution_count": null,
   "id": "6f632e86",
   "metadata": {},
   "outputs": [],
   "source": [
    "fns = list(Path('../data/custom_data/DATA_V33/data/').glob('*.h5'))"
   ]
  },
  {
   "cell_type": "code",
   "execution_count": null,
   "id": "cf04f576",
   "metadata": {},
   "outputs": [],
   "source": []
  },
  {
   "cell_type": "code",
   "execution_count": null,
   "id": "a8821977",
   "metadata": {},
   "outputs": [],
   "source": [
    "\n",
    "\n",
    "Parallel(n_jobs=16)(\n",
    "    delayed(save_pytorch_dict)(i)\n",
    "    for i in tqdm(fns)\n",
    ")"
   ]
  },
  {
   "cell_type": "code",
   "execution_count": null,
   "id": "524bc380",
   "metadata": {},
   "outputs": [],
   "source": []
  }
 ],
 "metadata": {
  "kernelspec": {
   "display_name": "Python 3 (ipykernel)",
   "language": "python",
   "name": "python3"
  },
  "language_info": {
   "codemirror_mode": {
    "name": "ipython",
    "version": 3
   },
   "file_extension": ".py",
   "mimetype": "text/x-python",
   "name": "python",
   "nbconvert_exporter": "python",
   "pygments_lexer": "ipython3",
   "version": "3.8.13"
  }
 },
 "nbformat": 4,
 "nbformat_minor": 5
}
