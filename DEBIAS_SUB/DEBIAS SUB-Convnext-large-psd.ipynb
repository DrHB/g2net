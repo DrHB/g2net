{
 "cells": [
  {
   "cell_type": "code",
   "execution_count": 1,
   "id": "3c06bd6c",
   "metadata": {},
   "outputs": [],
   "source": [
    "import gc, glob, os\n",
    "from concurrent.futures import ProcessPoolExecutor\n",
    "\n",
    "import h5py\n",
    "import numpy as np\n",
    "import pandas as pd\n",
    "import torch\n",
    "import torch.nn as nn\n",
    "from scipy.stats import norm\n",
    "from timm import create_model\n",
    "from tqdm import tqdm\n",
    "from pathlib import Path\n",
    "\n",
    "\n",
    "def normalize(X):\n",
    "    X = (X[..., None].view(X.real.dtype) ** 2).sum(-1)\n",
    "    POS = int(X.size * 0.99903)\n",
    "    EXP = norm.ppf((POS + 0.4) / (X.size + 0.215))\n",
    "    scale = np.partition(X.flatten(), POS, -1)[POS]\n",
    "    X /= scale / EXP.astype(scale.dtype) ** 2\n",
    "    return X\n",
    "\n",
    "\n",
    "def dataload(filepath):\n",
    "    astime = np.full([2, 360, 5760], np.nan, dtype=np.float32)\n",
    "    with h5py.File(filepath, \"r\") as f:\n",
    "        fid, _ = os.path.splitext(os.path.split(filepath)[1])\n",
    "        HT = (\n",
    "            (np.asarray(f[fid][\"H1\"][\"timestamps_GPS\"]) / 1800).round().astype(np.int64)\n",
    "        )\n",
    "        LT = (\n",
    "            (np.asarray(f[fid][\"L1\"][\"timestamps_GPS\"]) / 1800).round().astype(np.int64)\n",
    "        )\n",
    "        MIN = min(HT.min(), LT.min())\n",
    "        HT -= MIN\n",
    "        LT -= MIN\n",
    "        H1 = normalize(np.asarray(f[fid][\"H1\"][\"SFTs\"], np.complex128))\n",
    "        valid = HT < 5760\n",
    "        astime[0][:, HT[valid]] = H1[:, valid]\n",
    "        L1 = normalize(np.asarray(f[fid][\"L1\"][\"SFTs\"], np.complex128))\n",
    "        valid = LT < 5760\n",
    "        astime[1][:, LT[valid]] = L1[:, valid]\n",
    "    gc.collect()\n",
    "    return fid, astime, H1.mean(), L1.mean()\n",
    "\n",
    "\n",
    "\n",
    "\n",
    "def preprocess(num, input, H1, L1):\n",
    "    input = torch.from_numpy(input).to(\"cuda\", non_blocking=True)\n",
    "    rescale = torch.tensor([[H1, L1]]).to(\"cuda\", non_blocking=True)\n",
    "    tta = (\n",
    "        torch.randn([num, *input.shape, 2], device=input.device, dtype=torch.float32)\n",
    "        .square_()\n",
    "        .sum(-1)\n",
    "    )\n",
    "    tta *= rescale[..., None, None] / 2\n",
    "    valid = ~torch.isnan(input)\n",
    "    tta[:, valid] = input[valid].float()\n",
    "    return tta\n",
    "\n",
    "\n",
    "class LargeKernel_debias(nn.Conv2d):\n",
    "    def forward(self, input: torch.Tensor):\n",
    "        finput = input.flatten(0, 1)[:, None]\n",
    "        target = abs(self.weight)\n",
    "        target = target / target.sum((-1, -2), True)\n",
    "        joined_kernel = torch.cat([self.weight, target], 0)\n",
    "        reals = target.new_zeros(\n",
    "            [1, 1] + [s + p * 2 for p, s in zip(self.padding, input.shape[-2:])]\n",
    "        )\n",
    "        reals[\n",
    "            [slice(None)] * 2\n",
    "            + [slice(p, -p) if p != 0 else slice(None) for p in self.padding]\n",
    "        ].fill_(1)\n",
    "        output, power = torch.nn.functional.conv2d(\n",
    "            finput, joined_kernel, padding=self.padding\n",
    "        ).chunk(2, 1)\n",
    "        ratio = torch.div(*torch.nn.functional.conv2d(reals, joined_kernel).chunk(2, 1))\n",
    "        output = output.sub(power.mul(ratio))\n",
    "        return output.unflatten(0, input.shape[:2]).flatten(1, 2)\n",
    "    \n",
    "\n",
    "def get_model(path):\n",
    "    model = create_model(\n",
    "        \"tf_efficientnetv2_b0\",\n",
    "        in_chans=32,\n",
    "        num_classes=2,\n",
    "    )\n",
    "    state_dict = torch.load(path)\n",
    "    C, _, H, W = state_dict[\"conv_stem.2.weight\"].shape\n",
    "    print(C, _, H, W)\n",
    "    model.conv_stem = nn.Sequential(\n",
    "        nn.Identity(),\n",
    "        nn.AvgPool2d((1, 9), (1, 8), (0, 4), count_include_pad=False),\n",
    "        LargeKernel_debias(1, C, [H, W], 1, [H // 2, W // 2], 1, 1, False),\n",
    "        model.conv_stem,\n",
    "    )\n",
    "    model.load_state_dict(state_dict)\n",
    "    return model.conv_stem[:3]\n",
    "\n",
    "class LargeKernelModel(nn.Module):\n",
    "    def __init__(self, CFG):\n",
    "        super().__init__()\n",
    "        self.head = get_model('model_best.pth')\n",
    "        self.enc = create_model(\n",
    "                    CFG.model_name,\n",
    "                    pretrained=True,\n",
    "                    num_classes=CFG.num_classes,\n",
    "                    in_chans=32,\n",
    "                )\n",
    "        \n",
    "    def forward(self, x):\n",
    "        x = self.head(x)\n",
    "        return self.enc(x)\n",
    "\n",
    "\n",
    "@torch.no_grad()\n",
    "def inference(model, path):\n",
    "    file_path = glob.glob(os.path.join(path, \"*.hdf5\"))\n",
    "    FID, RES = [], []\n",
    "    with ProcessPoolExecutor(2) as pool:\n",
    "        for fid, input, H1, L1 in tqdm(pool.map(dataload, sorted(file_path))):\n",
    "            tta = preprocess(64, input, H1, L1)\n",
    "            FID += [fid]\n",
    "            RES += [model(tta).sigmoid().mean(0)]\n",
    "    return FID, torch.stack(RES, 0).cpu().float().numpy()"
   ]
  },
  {
   "cell_type": "code",
   "execution_count": 2,
   "id": "d31b271b",
   "metadata": {},
   "outputs": [],
   "source": [
    "class CFG:\n",
    "    bs = 32\n",
    "    nw = 8\n",
    "    model_name = \"convnext_large_in22k\"\n",
    "    lr = 1e-4\n",
    "    wd = 1e-4\n",
    "    epoch = 10\n",
    "    warmup_pct = 0.1\n",
    "    num_classes = 1\n",
    "    dropout_rate = 0.3\n",
    "    folder = \"EXP_50_00_PSD\"\n",
    "    mixup=False\n",
    "    split_voldf = Path(\"../data/SPLITS/V_20\")\n",
    "    exp_name = f\"{folder}_{model_name}_{split_voldf.stem}_{mixup}_POS\""
   ]
  },
  {
   "cell_type": "code",
   "execution_count": 3,
   "id": "ed1b51ac",
   "metadata": {},
   "outputs": [
    {
     "name": "stdout",
     "output_type": "stream",
     "text": [
      "16 1 31 255\n"
     ]
    },
    {
     "name": "stderr",
     "output_type": "stream",
     "text": [
      "7975it [5:52:52,  2.65s/it]\n"
     ]
    }
   ],
   "source": [
    "model =  LargeKernelModel(CFG)\n",
    "model.load_state_dict(torch.load('../EXP_50/EXP_50_00/EXP_50_00_convnext_large_in22k_V_20_False_FT_PSD_DATA_33_0_4.pth'))\n",
    "model.eval();\n",
    "model.cuda();\n",
    "\n",
    "fid, infer = inference(model, \"../data/test\")\n",
    "result = pd.DataFrame.from_dict({\"id\": fid, \"target\": infer.reshape(-1)})"
   ]
  },
  {
   "cell_type": "code",
   "execution_count": 4,
   "id": "20bcf29d",
   "metadata": {},
   "outputs": [],
   "source": [
    "result.to_csv('EXP_50_64_CONVNEXT_large_psd.csv', index=False)"
   ]
  },
  {
   "cell_type": "code",
   "execution_count": 5,
   "id": "c1745fc2",
   "metadata": {},
   "outputs": [
    {
     "data": {
      "text/plain": [
       "<AxesSubplot:ylabel='Frequency'>"
      ]
     },
     "execution_count": 5,
     "metadata": {},
     "output_type": "execute_result"
    },
    {
     "data": {
      "image/png": "[encoded data removed]",
      "text/plain": [
       "<Figure size 432x288 with 1 Axes>"
      ]
     },
     "metadata": {
      "needs_background": "light"
     },
     "output_type": "display_data"
    }
   ],
   "source": [
    "result['target'].plot.hist()"
   ]
  },
  {
   "cell_type": "code",
   "execution_count": 6,
   "id": "25030692",
   "metadata": {},
   "outputs": [
    {
     "ename": "NameError",
     "evalue": "name 'k' is not defined",
     "output_type": "error",
     "traceback": [
      "\u001b[0;31m---------------------------------------------------------------------------\u001b[0m",
      "\u001b[0;31mNameError\u001b[0m                                 Traceback (most recent call last)",
      "Input \u001b[0;32mIn [6]\u001b[0m, in \u001b[0;36m<cell line: 1>\u001b[0;34m()\u001b[0m\n\u001b[0;32m----> 1\u001b[0m \u001b[43mk\u001b[49m\n",
      "\u001b[0;31mNameError\u001b[0m: name 'k' is not defined"
     ]
    }
   ],
   "source": [
    "k"
   ]
  },
  {
   "cell_type": "code",
   "execution_count": null,
   "id": "15a287ad",
   "metadata": {},
   "outputs": [],
   "source": []
  },
  {
   "cell_type": "code",
   "execution_count": null,
   "id": "5527590c",
   "metadata": {},
   "outputs": [],
   "source": []
  }
 ],
 "metadata": {
  "kernelspec": {
   "display_name": "Python 3 (ipykernel)",
   "language": "python",
   "name": "python3"
  },
  "language_info": {
   "codemirror_mode": {
    "name": "ipython",
    "version": 3
   },
   "file_extension": ".py",
   "mimetype": "text/x-python",
   "name": "python",
   "nbconvert_exporter": "python",
   "pygments_lexer": "ipython3",
   "version": "3.8.13"
  }
 },
 "nbformat": 4,
 "nbformat_minor": 5
}
