{
 "cells": [
  {
   "cell_type": "code",
   "execution_count": 2,
   "id": "576f5b58",
   "metadata": {},
   "outputs": [],
   "source": [
    "\n",
    "import torch\n",
    "import torch.nn as nn\n",
    "import segmentation_models_pytorch as smp\n",
    "\n",
    "class CFG:\n",
    "    model_name = \"timm-efficientnet-b7\"\n",
    "\n",
    "class CustomWraper(nn.Module):\n",
    "    def __init__(self, CFG):\n",
    "        super().__init__()\n",
    "        self.md = smp.UnetPlusPlus(\n",
    "            encoder_name=CFG.model_name,  # choose encoder, e.g. mobilenet_v2 or efficientnet-b7\n",
    "            encoder_weights=\"imagenet\",  # use `imagenet` pre-trained weights for encoder initialization\n",
    "            in_channels=2,  # model input channels (1 for gray-scale images, 3 for RGB, etc.)\n",
    "            classes=2,  # model output channels (number of classes in your dataset)\n",
    "            activation=None,\n",
    "            aux_params=dict(\n",
    "                pooling=\"avg\",  # one of 'avg', 'max'\n",
    "                dropout=0.3,  # dropout ratio, default is None\n",
    "                activation=\"sigmoid\",  # activation function, default is None\n",
    "                classes=1,\n",
    "            ),  # define number of output labels\n",
    "        )\n",
    "        \n",
    "    def forward(self, x):\n",
    "        out, class_head = self.md(x)\n",
    "        return out, class_output"
   ]
  },
  {
   "cell_type": "code",
   "execution_count": 4,
   "id": "e87b4288",
   "metadata": {},
   "outputs": [],
   "source": [
    "md = CustomWraper(CFG).eval()"
   ]
  },
  {
   "cell_type": "code",
   "execution_count": 7,
   "id": "f1b289db",
   "metadata": {},
   "outputs": [],
   "source": [
    "out_noise, out_class = md(torch.rand(1, 2, 384, 128))"
   ]
  },
  {
   "cell_type": "code",
   "execution_count": 11,
   "id": "1cf1085e",
   "metadata": {},
   "outputs": [
    {
     "data": {
      "text/plain": [
       "(torch.Size([1, 2, 384, 128]), torch.Size([1, 1]))"
      ]
     },
     "execution_count": 11,
     "metadata": {},
     "output_type": "execute_result"
    }
   ],
   "source": [
    "out_noise.shape, out_class.shape"
   ]
  },
  {
   "cell_type": "code",
   "execution_count": null,
   "id": "ee73155a",
   "metadata": {},
   "outputs": [],
   "source": []
  }
 ],
 "metadata": {
  "kernelspec": {
   "display_name": "Python 3 (ipykernel)",
   "language": "python",
   "name": "python3"
  },
  "language_info": {
   "codemirror_mode": {
    "name": "ipython",
    "version": 3
   },
   "file_extension": ".py",
   "mimetype": "text/x-python",
   "name": "python",
   "nbconvert_exporter": "python",
   "pygments_lexer": "ipython3",
   "version": "3.8.13"
  }
 },
 "nbformat": 4,
 "nbformat_minor": 5
}
