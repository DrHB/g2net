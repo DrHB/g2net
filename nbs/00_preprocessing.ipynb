{
 "cells": [
  {
   "cell_type": "code",
   "execution_count": null,
   "metadata": {},
   "outputs": [],
   "source": [
    "#| default_exp preprocessing"
   ]
  },
  {
   "cell_type": "markdown",
   "metadata": {},
   "source": [
    "# PREPROCESSING\n",
    "\n",
    "> API details."
   ]
  },
  {
   "cell_type": "code",
   "execution_count": 1,
   "metadata": {},
   "outputs": [
    {
     "name": "stdout",
     "output_type": "stream",
     "text": [
      "22-11-06 23:04:38.908 pyfstat INFO    : Running PyFstat version 1.18.1\n",
      "22-11-06 23:04:38.959 pyfstat.utils.importing INFO    : No $DISPLAY environment variable found, so importing matplotlib.pyplot with non-interactive 'Agg' backend.\n"
     ]
    }
   ],
   "source": [
    "#| export\n",
    "import numpy as np\n",
    "import h5py\n",
    "import pandas as pd\n",
    "from typing import Dict\n",
    "from secrets import token_hex\n",
    "from pathlib import Path\n",
    "from scipy import stats\n",
    "import pyfstat\n",
    "import matplotlib.pyplot as plt\n",
    "import os\n",
    "import random\n",
    "%matplotlib inline"
   ]
  },
  {
   "cell_type": "code",
   "execution_count": 2,
   "metadata": {},
   "outputs": [],
   "source": [
    "#| export\n",
    "def good_luck():\n",
    "    return 'pass'"
   ]
  },
  {
   "cell_type": "markdown",
   "metadata": {},
   "source": []
  },
  {
   "cell_type": "code",
   "execution_count": 3,
   "metadata": {},
   "outputs": [],
   "source": [
    "# | export\n",
    "def read_file(filename):\n",
    "    file_id = Path(filename).stem\n",
    "    img = np.empty((2, 360, 128), dtype=np.float32)\n",
    "    with h5py.File(filename, \"r\") as f:\n",
    "        g = f[file_id]\n",
    "\n",
    "        for ch, s in enumerate([\"H1\", \"L1\"]):\n",
    "            a = g[s][\"SFTs\"][:, :4096] * 1e22  # Fourier coefficient complex64\n",
    "            p = a.real**2 + a.imag**2  # power\n",
    "            p /= np.mean(p)  # normalize\n",
    "            p = np.mean(p.reshape(360, 128, 32), axis=2)  # compress 4096 -> 128\n",
    "            img[ch] = p\n",
    "    return img\n",
    "\n",
    "\n",
    "def get_random_name(len_k=16):\n",
    "    token = token_hex(len_k)\n",
    "    return \"h_\" + token\n",
    "\n",
    "\n",
    "def save_hdf(\n",
    "    name: str,\n",
    "    sft_h1: np.array,\n",
    "    sft_l1: np.array,\n",
    "    timestamps: Dict,\n",
    "    frequency: np.array,\n",
    "    meta_: dict,\n",
    "):\n",
    "    hf = h5py.File(f\"{name}.h5\", \"w\")\n",
    "    g1 = hf.create_group(name.stem)\n",
    "    h1 = g1.create_group(\"H1\")\n",
    "    h1.create_dataset(\"SFTs\", data=sft_h1)\n",
    "    h1.create_dataset(\"timestamps\", data=timestamps[\"H1\"])\n",
    "\n",
    "    l1 = g1.create_group(\"L1\")\n",
    "    l1.create_dataset(\"SFTs\", data=sft_l1)\n",
    "    l1.create_dataset(\"timestamps\", data=timestamps[\"L1\"])\n",
    "\n",
    "    hf.create_dataset(\"frequency_Hz\", data=frequency)\n",
    "    pd.DataFrame(meta_).to_csv(f\"{name}.csv\", index=False)\n"
   ]
  },
  {
   "cell_type": "code",
   "execution_count": 4,
   "metadata": {},
   "outputs": [],
   "source": [
    "def generate_data(fn, save_folder, neg=False):\n",
    "    # Generate signals with parameters drawn from a specific population\n",
    "\n",
    "    # These parameters describe background noise and data format\n",
    "    sq_h1 = np.random.uniform(1e-23, 5e-23)\n",
    "    writer_kwargs = {\n",
    "        \"tstart\": 1238166018,\n",
    "        \"duration\": 86 * 86400,\n",
    "        \"detectors\": \"H1,L1\",\n",
    "        \"sqrtSX\": sq_h1,\n",
    "        \"Tsft\": 1800,\n",
    "        \"SFTWindowType\": \"tukey\",\n",
    "        \"SFTWindowBeta\": random.choice([0.01, 0.001]),\n",
    "        \"Band\": 0.2,\n",
    "    }\n",
    "\n",
    "    h_0 = lambda: writer_kwargs[\"sqrtSX\"] / stats.uniform(1, 50).rvs()\n",
    "    if neg:\n",
    "        h_0 = 0\n",
    "    signal_parameters_generator = pyfstat.AllSkyInjectionParametersGenerator(\n",
    "        priors={\n",
    "            \"tref\": writer_kwargs[\"tstart\"],\n",
    "            \"F0\": {\"uniform\": {\"low\": 50, \"high\": 500}},\n",
    "            \"F1\": lambda: 10 ** stats.uniform(-12, 4).rvs(),\n",
    "            \"F2\": 0,\n",
    "            \"h0\": h_0,\n",
    "            **pyfstat.injection_parameters.isotropic_amplitude_priors,\n",
    "        },\n",
    "    )\n",
    "\n",
    "    # snrs = np.zeros(num_signals)\n",
    "    # t_fns = list(Path('../data/test').glob('*.hdf5'))\n",
    "\n",
    "    # Draw signal parameters.\n",
    "    # Noise can be drawn by setting `params[\"h0\"] = 0\n",
    "    name = save_folder / f\"hb_{fn}\"\n",
    "    params = signal_parameters_generator.draw()\n",
    "    # same timestemps as in test data\n",
    "    # writer_kwargs['timestamps'] = get_random_timesteps(random.choice(t_fns))\n",
    "    writer_kwargs[\"outdir\"] = f\"PyFstat_example_data_ensemble/Signal_{fn}\"\n",
    "    writer_kwargs[\"label\"] = f\"Signal_{fn}\"\n",
    "\n",
    "    writer = pyfstat.Writer(**writer_kwargs, **params)\n",
    "    writer.make_data()\n",
    "\n",
    "    # SNR can be compute from a set of SFTs for a specific set\n",
    "    # of parameters as follows:\n",
    "    snr = pyfstat.SignalToNoiseRatio.from_sfts(\n",
    "        F0=writer.F0, sftfilepath=writer.sftfilepath\n",
    "    )\n",
    "    squared_snr = snr.compute_snr2(\n",
    "        Alpha=writer.Alpha,\n",
    "        Delta=writer.Delta,\n",
    "        psi=writer.psi,\n",
    "        phi=writer.phi,\n",
    "        h0=writer.h0,\n",
    "        cosi=writer.cosi,\n",
    "    )\n",
    "\n",
    "    meta_ = {\n",
    "        \"alpha\": [writer.Alpha],\n",
    "        \"daelta\": [writer.Delta],\n",
    "        \"cosi\": [writer.cosi],\n",
    "        \"psi\": [writer.psi],\n",
    "        \"phi\": [writer.phi],\n",
    "        \"h0\": [writer.h0],\n",
    "        \"f0\": [writer.F0],\n",
    "        \"f1\": [writer.F1],\n",
    "        \"snr\": [np.sqrt(squared_snr)],\n",
    "    }\n",
    "    # Data can be read as a numpy array using PyFstat\n",
    "    frequency, timestamps, amplitudes = pyfstat.utils.get_sft_as_arrays(\n",
    "        writer.sftfilepath\n",
    "    )\n",
    "\n",
    "    sft_h1 = amplitudes[\"H1\"][1:, :]\n",
    "    sft_l1 = amplitudes[\"L1\"][1:, :]\n",
    "    save_hdf(Path(name), sft_h1, sft_l1, timestamps, frequency, meta_)\n",
    "    print(meta_)\n"
   ]
  },
  {
   "cell_type": "code",
   "execution_count": 5,
   "metadata": {},
   "outputs": [
    {
     "name": "stdout",
     "output_type": "stream",
     "text": [
      "22-11-06 23:04:45.909 pyfstat.core INFO    : Creating Writer object...\n",
      "22-11-06 23:04:45.911 pyfstat.utils.ephemeris INFO    : No /root/.pyfstat.conf file found. Will fall back to lal's automatic path resolution for files [earth00-40-DE405.dat.gz,sun00-40-DE405.dat.gz]. Alternatively, set 'earth_ephem' and 'sun_ephem' class options.\n",
      "22-11-06 23:04:45.949 pyfstat.make_sfts INFO    : Generating SFTs with fmin=98.60517974712512, Band=0.2\n",
      "22-11-06 23:04:45.949 pyfstat.make_sfts INFO    : Checking if we can re-use injection config file...\n",
      "22-11-06 23:04:45.950 pyfstat.make_sfts INFO    : ...OK: config file PyFstat_example_data_ensemble/Signal_test_new/Signal_test_new.cff already exists.\n",
      "22-11-06 23:04:45.951 pyfstat.make_sfts INFO    : ...file contents unmatched, updating PyFstat_example_data_ensemble/Signal_test_new/Signal_test_new.cff.\n",
      "22-11-06 23:04:45.951 pyfstat.make_sfts INFO    : Writing config file: PyFstat_example_data_ensemble/Signal_test_new/Signal_test_new.cff\n",
      "22-11-06 23:04:45.952 pyfstat.make_sfts INFO    : Checking if we can re-use existing SFT data file(s)...\n",
      "22-11-06 23:04:45.953 pyfstat.make_sfts INFO    : ...OK: file(s) found matching 'PyFstat_example_data_ensemble/Signal_test_new/L-4128_L1_1800SFT_Signal_test_new-1238166018-7430400.sft'.\n",
      "22-11-06 23:04:45.953 pyfstat.make_sfts INFO    : ...the config file 'PyFstat_example_data_ensemble/Signal_test_new/Signal_test_new.cff' has been modified since creation of the SFT file(s) 'PyFstat_example_data_ensemble/Signal_test_new/H-4128_H1_1800SFT_Signal_test_new-1238166018-7430400.sft;PyFstat_example_data_ensemble/Signal_test_new/L-4128_L1_1800SFT_Signal_test_new-1238166018-7430400.sft'. Will create new SFT file(s).\n",
      "22-11-06 23:04:45.954 pyfstat.utils.cli INFO    : Now executing: lalpulsar_Makefakedata_v5 --outSingleSFT=TRUE --outSFTdir=\"PyFstat_example_data_ensemble/Signal_test_new\" --outLabel=\"Signal_test_new\" --IFOs=\"H1\",\"L1\" --sqrtSX=\"3.138857039869143e-23\" --SFTWindowType=\"tukey\" --SFTWindowBeta=0.01 --startTime=1238166018 --duration=7430400 --fmin=98.60517974712512 --Band=0.2 --Tsft=1800 --injectionSources=\"PyFstat_example_data_ensemble/Signal_test_new/Signal_test_new.cff\" --ephemEarth=\"earth00-40-DE405.dat.gz\" --ephemSun=\"sun00-40-DE405.dat.gz\"\n",
      "22-11-06 23:04:47.258 pyfstat.make_sfts INFO    : Successfully wrote SFTs to: PyFstat_example_data_ensemble/Signal_test_new/H-4128_H1_1800SFT_Signal_test_new-1238166018-7430400.sft;PyFstat_example_data_ensemble/Signal_test_new/L-4128_L1_1800SFT_Signal_test_new-1238166018-7430400.sft\n",
      "22-11-06 23:04:47.259 pyfstat.make_sfts INFO    : Now validating each SFT file...\n",
      "22-11-06 23:04:47.374 pyfstat.utils.ephemeris INFO    : No /root/.pyfstat.conf file found. Will fall back to lal's automatic path resolution for files [earth00-40-DE405.dat.gz,sun00-40-DE405.dat.gz]. Alternatively, set 'earth_ephem' and 'sun_ephem' class options.\n",
      "22-11-06 23:04:48.315 pyfstat.utils.sft INFO    : Loading 8256 SFTs from H1, L1...\n",
      "{'alpha': [2.346907262764567], 'daelta': [-0.7826281915415988], 'cosi': [0.5196233141984163], 'psi': [0.7814627448020515], 'phi': [2.688418956417715], 'h0': [7.9701470036520055e-25], 'f0': [98.70517974712511], 'f1': [4.943554950499261e-12], 'snr': [37.130173951522]}\n"
     ]
    }
   ],
   "source": [
    "generate_data('test_new', Path(''))"
   ]
  },
  {
   "cell_type": "code",
   "execution_count": 6,
   "metadata": {},
   "outputs": [],
   "source": [
    "img = read_file('/opt/slh/g2net/nbs/hb_test_new.h5')"
   ]
  },
  {
   "cell_type": "code",
   "execution_count": 7,
   "metadata": {},
   "outputs": [
    {
     "data": {
      "text/plain": [
       "<matplotlib.image.AxesImage at 0x7f6bdcfb58e0>"
      ]
     },
     "execution_count": 7,
     "metadata": {},
     "output_type": "execute_result"
    },
    {
     "data": {
      "image/png": "[encoded data removed]",
      "text/plain": [
       "<Figure size 432x288 with 1 Axes>"
      ]
     },
     "metadata": {
      "needs_background": "light"
     },
     "output_type": "display_data"
    }
   ],
   "source": [
    "plt.imshow(img.mean(0))"
   ]
  },
  {
   "cell_type": "code",
   "execution_count": null,
   "metadata": {},
   "outputs": [],
   "source": [
    "#name = Path(\"hb_test\") #get_random_name()\n",
    "#sft_h1 = np.random.rand(360, 4096)\n",
    "#sft_l1 = np.random.rand(360, 4096)\n",
    "#timestamps = dict({\"H1\": np.random.rand(400, ), \n",
    "#                   \"L1\": np.random.rand(400, )})\n",
    "#frequency = np.random.rand(400,)\n",
    "#meta_ = {\"t\": [23], \n",
    "#        \"m\": [23]}"
   ]
  },
  {
   "cell_type": "code",
   "execution_count": null,
   "metadata": {},
   "outputs": [],
   "source": [
    "#|hide\n",
    "#|eval: false\n",
    "from nbdev.doclinks import nbdev_export\n",
    "nbdev_export()"
   ]
  },
  {
   "cell_type": "code",
   "execution_count": null,
   "metadata": {},
   "outputs": [],
   "source": []
  }
 ],
 "metadata": {
  "kernelspec": {
   "display_name": "Python 3 (ipykernel)",
   "language": "python",
   "name": "python3"
  },
  "language_info": {
   "codemirror_mode": {
    "name": "ipython",
    "version": 3
   },
   "file_extension": ".py",
   "mimetype": "text/x-python",
   "name": "python",
   "nbconvert_exporter": "python",
   "pygments_lexer": "ipython3",
   "version": "3.8.13"
  },
  "vscode": {
   "interpreter": {
    "hash": "d4d1e4263499bec80672ea0156c357c1ee493ec2b1c70f0acce89fc37c4a6abe"
   }
  }
 },
 "nbformat": 4,
 "nbformat_minor": 4
}
