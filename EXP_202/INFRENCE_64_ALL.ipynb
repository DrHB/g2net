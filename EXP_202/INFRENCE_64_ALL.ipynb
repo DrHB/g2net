{
 "cells": [
  {
   "cell_type": "code",
   "execution_count": 1,
   "id": "e383b94b",
   "metadata": {},
   "outputs": [],
   "source": [
    "from einops import rearrange\n",
    "import copy\n",
    "import h5py\n",
    "from pathlib import Path\n",
    "import numpy as np\n",
    "import pandas as pd\n",
    "import torch\n",
    "torch.cuda.set_device(1)\n",
    "import os\n",
    "os.environ[\"CUDA_VISIBLE_DEVICES\"] = \"2\"\n",
    "from pdb import set_trace\n",
    "import matplotlib.pyplot as plt\n",
    "from torch import nn\n",
    "from x_transformers import  Encoder, Decoder\n",
    "from x_transformers.autoregressive_wrapper import exists\n",
    "from torch.utils.data import DataLoader\n",
    "from sklearn.metrics import roc_auc_score\n",
    "from fastai.vision.all import BCEWithLogitsLossFlat\n",
    "from transformers.optimization import (\n",
    "    get_linear_schedule_with_warmup,\n",
    "    get_cosine_schedule_with_warmup,\n",
    ")\n",
    "from fastprogress.fastprogress import master_bar, progress_bar\n",
    "import os\n",
    "from timm import create_model\n",
    "import random\n",
    "from tqdm import tqdm\n",
    "\n",
    "\n",
    "from torch import Tensor\n",
    "import torch.nn.functional as F\n",
    "from typing import Tuple\n",
    "import pickle\n",
    "import timm"
   ]
  },
  {
   "cell_type": "code",
   "execution_count": 2,
   "id": "6ab37361",
   "metadata": {},
   "outputs": [],
   "source": [
    "class CFG:\n",
    "    bs = 64\n",
    "    nw = 4\n",
    "    model_name = \"swin_large_patch4_window12_384\"\n",
    "    lr = 1e-4\n",
    "    wd = 1e-4\n",
    "    epoch = 12\n",
    "    warmup_pct = 0.1\n",
    "    num_classes = 1\n",
    "    dropout_rate = 0.3\n",
    "    folder = \"EXP_200_BASELINE_CASHE_V3\"\n",
    "    mixup=False\n",
    "    exp_name = f\"{folder}_{model_name}\""
   ]
  },
  {
   "cell_type": "code",
   "execution_count": 3,
   "id": "4a785480",
   "metadata": {},
   "outputs": [],
   "source": [
    "def get_snr(left, right, df):\n",
    "    df_ = pd.concat([df.query(f\"snr>{left} & snr<{right}\"), df.query(\"snr==0\")])\n",
    "    return df_\n",
    "\n",
    "\n",
    "def generate_report(df):\n",
    "    val_df_eval = df.copy()\n",
    "\n",
    "    roc_100 = roc_auc_score(val_df_eval[\"target\"], val_df_eval[\"pred\"])\n",
    "\n",
    "    roc_25_50 = roc_auc_score(\n",
    "        get_snr(30, 50, val_df_eval)[\"target\"], get_snr(30, 50, val_df_eval)[\"pred\"]\n",
    "    )\n",
    "\n",
    "    return {\n",
    "        \"roc_all\": roc_100,\n",
    "        \"roc_30_50\": roc_25_50,\n",
    "\n",
    "    }\n",
    "\n"
   ]
  },
  {
   "cell_type": "code",
   "execution_count": 4,
   "id": "f3eed83d",
   "metadata": {},
   "outputs": [],
   "source": [
    "def time_mask(spec, T=10):\n",
    "    cloned = spec.clone().detach()\n",
    "    len_spectro = cloned.shape[2]\n",
    "    num_masks = np.random.randint(3, 8)\n",
    "    for i in range(0, num_masks):\n",
    "        t = random.randrange(0, T)\n",
    "        t_zero = random.randrange(0, len_spectro - t)\n",
    "\n",
    "        # avoids randrange error if values are equal and range is empty\n",
    "        if (t_zero == t_zero + t): return cloned\n",
    "\n",
    "        mask_end = random.randrange(t_zero, t_zero + t)\n",
    "        cloned[:, :,t_zero:mask_end] = 0\n",
    "    return cloned\n",
    "\n",
    "\n",
    "\n",
    "\n",
    "def freq_mask(spec, F=30):\n",
    "    cloned = spec.clone().detach()\n",
    "    num_mel_channels = cloned.shape[1]\n",
    "    num_masks = np.random.randint(3, 8)\n",
    "    for i in range(0, num_masks):        \n",
    "        f = random.randrange(0, F)\n",
    "        f_zero = random.randrange(0, num_mel_channels - f)\n",
    "\n",
    "        # avoids randrange error if values are equal and range is empty\n",
    "        if (f_zero == f_zero + f): return cloned\n",
    "\n",
    "        mask_end = random.randrange(f_zero, f_zero + f) \n",
    "        cloned[:, f_zero:mask_end, :] = 0\n",
    "    \n",
    "    return cloned"
   ]
  },
  {
   "cell_type": "code",
   "execution_count": 5,
   "id": "5e79a92c",
   "metadata": {},
   "outputs": [],
   "source": [
    "def read_pkl(filename):   \n",
    "    with open(filename, 'rb') as file1: \n",
    "        k = pickle.load(file1)\n",
    "        h1 = k[\"H1\"]['spectrogram']\n",
    "        l1 = k[\"L1\"]['spectrogram']\n",
    "        h1_timestamp = k[\"H1\"]['timestamps']\n",
    "        l1_timestamp = k[\"L1\"]['timestamps']\n",
    "        freq = k['frequency']\n",
    "        \n",
    "    data_dict = {\"sft\" : np.stack([h1[:, :4096], l1[:, :4096]]), \n",
    "                 \"timestamps\": {\"H1\": h1_timestamp, \n",
    "                                    \"L1\": l1_timestamp}}\n",
    "    return data_dict"
   ]
  },
  {
   "cell_type": "code",
   "execution_count": 6,
   "id": "a1f50e5c",
   "metadata": {},
   "outputs": [],
   "source": [
    "class Upsample(nn.Module):\n",
    "    def __init__(self, in_channels, target_size, with_conv=True):\n",
    "        super().__init__()\n",
    "        self.with_conv = with_conv\n",
    "        self.target_size = target_size\n",
    "        if self.with_conv:\n",
    "            self.conv = torch.nn.Conv2d(\n",
    "                in_channels, in_channels, kernel_size=3, stride=1, padding=1\n",
    "            )\n",
    "\n",
    "    def forward(self, x):\n",
    "        x = torch.nn.functional.interpolate(x, size=self.target_size, mode=\"bilinear\")\n",
    "        if self.with_conv:\n",
    "            x = self.conv(x)\n",
    "        return x\n",
    "\n",
    "\n",
    "class CustomHybdridEmbed(nn.Module):\n",
    "    def __init__(\n",
    "        self,\n",
    "        decoder_proj_conv,\n",
    "        channel_in=2,\n",
    "        encoder_name=\"inception_v4\",\n",
    "        encoder_out_layer_num=[2],\n",
    "        transformer_original_input_size=(1, 3, 224, 224),\n",
    "    ):\n",
    "        super().__init__()\n",
    "        self.encoder = timm.create_model(\n",
    "            encoder_name,\n",
    "            features_only=True,\n",
    "            out_indices=encoder_out_layer_num,\n",
    "            pretrained=True,\n",
    "            in_chans=channel_in,\n",
    "        )\n",
    "\n",
    "        with torch.no_grad():\n",
    "            x = torch.rand(1, channel_in, 360, 512)\n",
    "            enc_ch_num = self.encoder(x)[0].shape[1]\n",
    "            decoder_in_channels = decoder_proj_conv(\n",
    "                torch.rand(transformer_original_input_size)\n",
    "            ).shape\n",
    "\n",
    "        self.resize = Upsample(enc_ch_num, decoder_in_channels[2:])\n",
    "        self.proj = nn.Conv2d(\n",
    "            enc_ch_num, decoder_in_channels[1], kernel_size=1, stride=1\n",
    "        )\n",
    "\n",
    "    def forward(self, x):\n",
    "        x = self.encoder(x)[0]\n",
    "        x = self.resize(x)\n",
    "        x = self.proj(x).flatten(2).transpose(1, 2)\n",
    "        return x\n",
    "    \n",
    "    \n"
   ]
  },
  {
   "cell_type": "code",
   "execution_count": 18,
   "id": "d80e7ef5",
   "metadata": {},
   "outputs": [],
   "source": [
    "def preprocess(sft):\n",
    "    sft = sft * 1e22\n",
    "    sft = sft.real**2 + sft.imag**2\n",
    "    return sft\n",
    "\n",
    "\n",
    "def normalize(data):\n",
    "    data[0] = data[0] / data[0].mean()\n",
    "    data[1] = data[1] / data[1].mean()\n",
    "    data = data.reshape(2, 360, 64, 64).mean(-1)  # compress 4096 -> 128\n",
    "    data = data - data.mean()\n",
    "    data = data / data.std()\n",
    "    return torch.tensor(data)\n",
    "\n",
    "\n",
    "def read_h5(file):\n",
    "    file = Path(file)\n",
    "    with h5py.File(file, \"r\") as f:\n",
    "        filename = file.stem\n",
    "        k = f[filename]\n",
    "        h1 = k[\"H1\"]\n",
    "        l1 = k[\"L1\"]\n",
    "        h1_stft = h1[\"SFTs\"][()]\n",
    "        h1_timestamp = h1[\"timestamps_GPS\"][()]\n",
    "        l1_stft = l1[\"SFTs\"][()]\n",
    "        l1_timestamp = l1[\"timestamps_GPS\"][()]\n",
    "        \n",
    "        data_dict = {\"sft\" : np.stack([h1_stft[:, :4096], l1_stft[:, :4096]]), \n",
    "                 \"timestamps\": {\"H1\": h1_timestamp, \n",
    "                                    \"L1\": l1_timestamp}}\n",
    "        \n",
    "        return data_dict\n",
    "    \n",
    "\n",
    "    \n",
    "class ValLoader(torch.utils.data.Dataset):\n",
    "    \"\"\"\n",
    "    dataset = Dataset(data_type, df)\n",
    "\n",
    "    img, y = dataset[i]\n",
    "      img (np.float32): 2 x 360 x 128\n",
    "      y (np.float32): label 0 or 1\n",
    "    \"\"\"\n",
    "    def __init__(self, df, freq_tfms=False):\n",
    "        self.df = df\n",
    "        self.tfms = freq_tfms\n",
    "        \n",
    "\n",
    "    def __len__(self):\n",
    "        return len(self.df)\n",
    "\n",
    "    def __getitem__(self, i):\n",
    "        \"\"\"\n",
    "        i (int): get ith data\n",
    "        \"\"\"\n",
    "        r = self.df.iloc[i]\n",
    "        y = np.float32(r.target)\n",
    "        img = normalize(preprocess(read_h5(r.id)['sft']))\n",
    "        return img, y\n",
    "    \n",
    "    \n",
    "class ValLoaderPickle(torch.utils.data.Dataset):\n",
    "    \"\"\"\n",
    "    dataset = Dataset(data_type, df)\n",
    "\n",
    "    img, y = dataset[i]\n",
    "      img (np.float32): 2 x 360 x 128\n",
    "      y (np.float32): label 0 or 1\n",
    "    \"\"\"\n",
    "    def __init__(self, df, freq_tfms=False):\n",
    "        self.df = df\n",
    "        self.tfms = freq_tfms\n",
    "        \n",
    "\n",
    "    def __len__(self):\n",
    "        return len(self.df)\n",
    "\n",
    "    def __getitem__(self, i):\n",
    "        \"\"\"\n",
    "        i (int): get ith data\n",
    "        \"\"\"\n",
    "        r = self.df.iloc[i]\n",
    "        y = np.float32(r.target)\n",
    "        img = normalize(read_pkl(str(r.id))['sft'])\n",
    "        return img.float(), y\n",
    "\n",
    "\n"
   ]
  },
  {
   "cell_type": "code",
   "execution_count": 32,
   "id": "b7faec2a",
   "metadata": {},
   "outputs": [],
   "source": [
    "def torch_rot90_cw(x):\n",
    "    return x.rot90(k=-1, dims=(2, 3))\n",
    "\n",
    "\n",
    "def torch_fliplr(x: Tensor):\n",
    "    \"\"\"\n",
    "    Flip 4D image tensor horizontally\n",
    "    :param x:\n",
    "    :return:\n",
    "    \"\"\"\n",
    "    return x.flip(3)\n",
    "\n",
    "\n",
    "def torch_flipud(x: Tensor):\n",
    "    \"\"\"\n",
    "    Flip 4D image tensor vertically\n",
    "    :param x:\n",
    "    :return:\n",
    "    \"\"\"\n",
    "    return x.flip(2)\n",
    "\n",
    "\n",
    "def tencrop_image2label(model: nn.Module, image: Tensor) -> Tensor:\n",
    "    \"\"\"Test-time augmentation for image classification that takes five crops out of input tensor (4 on corners and central)\n",
    "    and averages predictions from them and from their horisontally-flipped versions (10-Crop TTA).\n",
    "    :param model: Classification model\n",
    "    :param image: Input image tensor\n",
    "    :param crop_size: Crop size. Must be smaller than image size\n",
    "    :return: Averaged logits\n",
    "    \"\"\"\n",
    "\n",
    "    output = (\n",
    "        torch.sigmoid(model(image))\n",
    "        + torch.sigmoid(model(torch_flipud(image)))\n",
    "        + torch.sigmoid(model(torch_fliplr(image)))\n",
    "        # torch.sigmoid(model(torch_flipud(torch_fliplr(image))))\n",
    "    ) / 3\n",
    "\n",
    "    return output"
   ]
  },
  {
   "cell_type": "code",
   "execution_count": 29,
   "id": "7005f514",
   "metadata": {},
   "outputs": [],
   "source": [
    "def predict_tta(dl, model):\n",
    "    res = []\n",
    "    with torch.no_grad():\n",
    "        for x, y in tqdm(vld_dl):\n",
    "            out = tencrop_image2label(model, x.cuda()).detach().cpu()\n",
    "            #out = torch.sigmoid(model(x.to(\"cuda:1\"))).detach().cpu()\n",
    "            res.append(out)\n",
    "    return res"
   ]
  },
  {
   "cell_type": "code",
   "execution_count": 27,
   "id": "9b5a5a3b",
   "metadata": {},
   "outputs": [
    {
     "name": "stderr",
     "output_type": "stream",
     "text": [
      "100%|██████████████████████████████████████████████████████████████████████████████████| 74/74 [03:45<00:00,  3.04s/it]\n"
     ]
    }
   ],
   "source": [
    "\n",
    "real_noise_fns = sorted(\n",
    "    Path(\"../data/custom_data/DATA_V33/data/\").glob(\"*.pth\"),\n",
    "    key=lambda x: str(x).split(\"_\")[-2],\n",
    ")\n",
    "\n",
    "fake_noise_fns = sorted(\n",
    "    Path(\"../data/custom_data/DATA_V34/data/\").glob(\"*.pth\"),\n",
    "    key=lambda x: str(x).split(\"_\")[-2],\n",
    ")\n",
    "\n",
    "\n",
    "noise = (\n",
    "    list(Path(\"../data/custom_data/DATA_V31_V32_NOISE\").glob(\"*.pth\"))\n",
    "    + real_noise_fns[:1100]\n",
    "    + fake_noise_fns\n",
    ")\n",
    "cashe_fns = list(Path(\"cashe_dataset\").glob(\"*.pth\"))\n",
    "\n",
    "val_df = pd.read_csv(\"../data/SPLITS/V_22/val_df.csv\")\n",
    "comp_train = pd.read_csv(\"../data/train_labels.csv\")\n",
    "comp_train.columns = [\"fn\", \"target\"]\n",
    "comp_train = comp_train.query(\"target>=0\")\n",
    "comp_train[\"fn\"] = comp_train[\"fn\"].apply(lambda x: Path(\"../data/train\") / f\"{x}.hdf5\")\n",
    "comp_train.columns = [\"id\", \"target\"]\n",
    "comp_train[\"data_type\"] = \"comp_train\"\n",
    "real_noise_df = pd.DataFrame({\"id\": real_noise_fns[1100:], \"target\": 0.0, \"snr\": 0})\n",
    "real_noise_df[\"id\"] = real_noise_df[\"id\"].apply(\n",
    "    lambda x: Path(str(x).replace(\".pth\", \".h5\"))\n",
    ")\n",
    "\n",
    "val_df = pd.concat([val_df, comp_train, real_noise_df], ignore_index=True)\n",
    "val_df['id']= val_df['id'].apply(lambda x: Path(x))\n",
    "                             \n",
    "fns = [\"EXP_200_BASELINE_CASHE_V5_256/EXP_200_BASELINE_CASHE_V5_256_swin_large_patch4_window12_384_0_4.pth\"]\n",
    "\n",
    "\n",
    "custom_model = timm.create_model(\n",
    "    CFG.model_name, pretrained=True, num_classes=1\n",
    ")\n",
    "\n",
    "custom_model.patch_embed = CustomHybdridEmbed(\n",
    "    custom_model.patch_embed.proj, transformer_original_input_size=(1, 3, 384, 384)\n",
    ")\n",
    "\n",
    "\n",
    "custom_model.load_state_dict(torch.load(fns[0]))\n",
    "custom_model.cuda();\n",
    "custom_model.eval();\n",
    "sub_ds = ValLoader(val_df)\n",
    "vld_dl = DataLoader(\n",
    "    sub_ds,\n",
    "    batch_size=CFG.bs,\n",
    "    shuffle=False,\n",
    "    num_workers=CFG.nw,\n",
    "    pin_memory=True,\n",
    "    drop_last=False\n",
    ")\n",
    "\n",
    "res = predict_tta(vld_dl, custom_model)\n"
   ]
  },
  {
   "cell_type": "code",
   "execution_count": null,
   "id": "c6b3a459",
   "metadata": {},
   "outputs": [],
   "source": []
  },
  {
   "cell_type": "code",
   "execution_count": 28,
   "id": "416929a2",
   "metadata": {},
   "outputs": [],
   "source": [
    "val_df['pred'] = torch.cat(res).view(-1).numpy()"
   ]
  },
  {
   "cell_type": "code",
   "execution_count": 29,
   "id": "3b8ac135",
   "metadata": {},
   "outputs": [
    {
     "data": {
      "text/plain": [
       "0.9022722607133693"
      ]
     },
     "execution_count": 29,
     "metadata": {},
     "output_type": "execute_result"
    }
   ],
   "source": [
    "roc_auc_score(val_df['target'], val_df['pred'])"
   ]
  },
  {
   "cell_type": "code",
   "execution_count": 30,
   "id": "4c82214d",
   "metadata": {},
   "outputs": [
    {
     "data": {
      "text/plain": [
       "0.8104999999999999"
      ]
     },
     "execution_count": 30,
     "metadata": {},
     "output_type": "execute_result"
    }
   ],
   "source": [
    "roc_auc_score(val_df.query('data_type == \"comp_train\"')['target'], \n",
    "              val_df.query('data_type == \"comp_train\"')['pred'])"
   ]
  },
  {
   "cell_type": "code",
   "execution_count": 37,
   "id": "042fbd63",
   "metadata": {},
   "outputs": [
    {
     "name": "stderr",
     "output_type": "stream",
     "text": [
      "100%|████████████████████████████████████████████████████████████████████████████████| 125/125 [06:25<00:00,  3.08s/it]\n"
     ]
    }
   ],
   "source": [
    "fns = [\"EXP_200_BASELINE_CASHE_V6_256_64/EXP_200_BASELINE_CASHE_V6_256_64_swin_large_patch4_window12_384_0_4.pth\"]\n",
    "\n",
    "\n",
    "custom_model = timm.create_model(\n",
    "    CFG.model_name, pretrained=True, num_classes=1\n",
    ")\n",
    "\n",
    "custom_model.patch_embed = CustomHybdridEmbed(\n",
    "    custom_model.patch_embed.proj, transformer_original_input_size=(1, 3, 384, 384)\n",
    ")\n",
    "\n",
    "\n",
    "custom_model.load_state_dict(torch.load(fns[0]))\n",
    "custom_model.cuda();\n",
    "sub = pd.read_csv('../data/sample_submission.csv')\n",
    "sub['id'] = sub['id'].apply(lambda x: Path(f'../data/test/{x}.hdf5'))\n",
    "sub_ds = ValLoader(sub)\n",
    "vld_dl = DataLoader(\n",
    "    sub_ds,\n",
    "    batch_size=CFG.bs,\n",
    "    shuffle=False,\n",
    "    num_workers=CFG.nw,\n",
    "    pin_memory=True,\n",
    "    drop_last=False\n",
    ")\n",
    "vld_dl = DataLoader(\n",
    "    sub_ds,\n",
    "    batch_size=CFG.bs,\n",
    "    shuffle=False,\n",
    "    num_workers=CFG.nw,\n",
    "    pin_memory=True,\n",
    "    drop_last=False\n",
    ")\n",
    "\n",
    "res = predict_tta(vld_dl, custom_model)"
   ]
  },
  {
   "cell_type": "code",
   "execution_count": 38,
   "id": "60af423e",
   "metadata": {},
   "outputs": [],
   "source": [
    "sub['target'] = torch.cat(res).view(-1).numpy()\n",
    "sub['id'] = sub['id'].apply(lambda x: x.stem)"
   ]
  },
  {
   "cell_type": "code",
   "execution_count": 39,
   "id": "99c986c1",
   "metadata": {},
   "outputs": [],
   "source": [
    "sub.to_csv('EXP_202_SWIN_64_SUB.csv', index=False)"
   ]
  },
  {
   "cell_type": "code",
   "execution_count": 40,
   "id": "9b848b94",
   "metadata": {},
   "outputs": [
    {
     "data": {
      "text/plain": [
       "<AxesSubplot:ylabel='Frequency'>"
      ]
     },
     "execution_count": 40,
     "metadata": {},
     "output_type": "execute_result"
    },
    {
     "data": {
      "image/png": "[encoded data removed]",
      "text/plain": [
       "<Figure size 432x288 with 1 Axes>"
      ]
     },
     "metadata": {
      "needs_background": "light"
     },
     "output_type": "display_data"
    }
   ],
   "source": [
    "sub['target'].plot.hist()"
   ]
  },
  {
   "cell_type": "code",
   "execution_count": 50,
   "id": "36732d7d",
   "metadata": {},
   "outputs": [],
   "source": [
    "df_1 = pd.read_csv('EXP_202_SWIN_128.csv').dropna(subset='pred')"
   ]
  },
  {
   "cell_type": "code",
   "execution_count": 51,
   "id": "30afe8f3",
   "metadata": {},
   "outputs": [],
   "source": [
    "df_2 = pd.read_csv('EXP_202_SWIN_64.csv').dropna(subset='pred')"
   ]
  },
  {
   "cell_type": "code",
   "execution_count": null,
   "id": "965d5b78",
   "metadata": {},
   "outputs": [],
   "source": []
  },
  {
   "cell_type": "code",
   "execution_count": 52,
   "id": "80698dc9",
   "metadata": {},
   "outputs": [
    {
     "data": {
      "text/plain": [
       "0.7273997490209775"
      ]
     },
     "execution_count": 52,
     "metadata": {},
     "output_type": "execute_result"
    }
   ],
   "source": [
    "roc_auc_score(df_1['target'], (df_1['pred'] + df_2['pred'])/2)"
   ]
  },
  {
   "cell_type": "code",
   "execution_count": 33,
   "id": "3e9ff0de",
   "metadata": {},
   "outputs": [
    {
     "data": {
      "text/plain": [
       "['EXP_200_BASELINE_CASHE_V6_256_64/EXP_200_BASELINE_CASHE_V6_256_64_swin_large_patch4_window12_384_0_4.pth']"
      ]
     },
     "execution_count": 33,
     "metadata": {},
     "output_type": "execute_result"
    }
   ],
   "source": [
    "#fns = list(Path('EXP_200_BASELINE_CASHE_V6_256_64').glob(\"*.pth\"))\n",
    "#fns = [\"EXP_200_BASELINE_CASHE_V5_256/EXP_200_BASELINE_CASHE_V5_256_swin_large_patch4_window12_384_0_4.pth\"]\n",
    "#\"EXP_200_BASELINE_CASHE_V5_256/EXP_200_BASELINE_CASHE_V5_256_swin_large_patch4_window12_384_0_6.pth\",\n",
    "#\"EXP_200_BASELINE_CASHE_V5_256/EXP_200_BASELINE_CASHE_V5_256_swin_large_patch4_window12_384_0_9.pth\" \n",
    "    # ]\n",
    "fns = [\"EXP_200_BASELINE_CASHE_V6_256_64/EXP_200_BASELINE_CASHE_V6_256_64_swin_large_patch4_window12_384_0_4.pth\"]\n",
    "\n",
    "fns"
   ]
  },
  {
   "cell_type": "code",
   "execution_count": 34,
   "id": "e6832ec7",
   "metadata": {
    "scrolled": false
   },
   "outputs": [
    {
     "name": "stdout",
     "output_type": "stream",
     "text": [
      "_______\n",
      "EXP_200_BASELINE_CASHE_V6_256_64/EXP_200_BASELINE_CASHE_V6_256_64_swin_large_patch4_window12_384_0_4.pth\n"
     ]
    },
    {
     "name": "stderr",
     "output_type": "stream",
     "text": [
      " 10%|████████▍                                                                        | 13/125 [00:31<04:05,  2.19s/it]/opt/conda/lib/python3.8/site-packages/numpy/core/_methods.py:246: RuntimeWarning: overflow encountered in reduce\n",
      "  ret = umr_sum(x, axis, dtype, out, keepdims=keepdims, where=where)\n",
      " 13%|██████████▎                                                                      | 16/125 [00:37<03:58,  2.19s/it]/tmp/ipykernel_2720733/39500405.py:9: RuntimeWarning: invalid value encountered in true_divide\n",
      "  data[1] = data[1] / data[1].mean()\n",
      " 34%|███████████████████████████▊                                                     | 43/125 [01:37<03:00,  2.20s/it]/tmp/ipykernel_2720733/39500405.py:8: RuntimeWarning: invalid value encountered in true_divide\n",
      "  data[0] = data[0] / data[0].mean()\n",
      " 56%|█████████████████████████████████████████████▎                                   | 70/125 [02:36<02:01,  2.20s/it]/opt/conda/lib/python3.8/site-packages/numpy/core/_methods.py:246: RuntimeWarning: overflow encountered in reduce\n",
      "  ret = umr_sum(x, axis, dtype, out, keepdims=keepdims, where=where)\n",
      " 62%|█████████████████████████████████████████████████▉                               | 77/125 [02:52<01:45,  2.20s/it]/opt/conda/lib/python3.8/site-packages/numpy/core/_methods.py:235: RuntimeWarning: overflow encountered in multiply\n",
      "  x = um.multiply(x, x, out=x)\n",
      " 86%|████████████████████████████████████████████████████████████████████▍           | 107/125 [03:58<00:39,  2.20s/it]/opt/conda/lib/python3.8/site-packages/numpy/core/_methods.py:246: RuntimeWarning: overflow encountered in reduce\n",
      "  ret = umr_sum(x, axis, dtype, out, keepdims=keepdims, where=where)\n",
      " 87%|█████████████████████████████████████████████████████████████████████▊          | 109/125 [04:02<00:35,  2.20s/it]/tmp/ipykernel_2720733/39500405.py:9: RuntimeWarning: invalid value encountered in true_divide\n",
      "  data[1] = data[1] / data[1].mean()\n",
      "100%|████████████████████████████████████████████████████████████████████████████████| 125/125 [04:37<00:00,  2.22s/it]\n"
     ]
    }
   ],
   "source": [
    "#predict train\n",
    "\n",
    "for mw in fns:\n",
    "    print('_______')\n",
    "    print(mw)\n",
    "    df_eval = pd.read_csv('../../val/v21v.csv')\n",
    "    df_eval.id = df_eval.id.apply(lambda x: Path(f\"../../val/v21_val/{x}.pickle\"))\n",
    "    df_eval.columns = ['id', 'nonstationary_H1', 'nonstationary_L1', 'artifact_H1',\n",
    "       'artifact_L1', 'freq', 'F1', 'F2', 'Alpha', 'Delta', 'h0', 'cosi', 'psi',\n",
    "       'phi', 'snr', 'target', 'path']\n",
    "    sub_ds = ValLoaderPickle(df_eval)\n",
    "    vld_dl = DataLoader(\n",
    "        sub_ds,\n",
    "        batch_size=CFG.bs,\n",
    "        shuffle=False,\n",
    "        num_workers=CFG.nw,\n",
    "        pin_memory=True,\n",
    "        drop_last=False\n",
    "    )\n",
    "\n",
    "\n",
    "    custom_model = timm.create_model(\n",
    "        CFG.model_name, pretrained=True, num_classes=1\n",
    "    )\n",
    "\n",
    "    custom_model.patch_embed = CustomHybdridEmbed(\n",
    "        custom_model.patch_embed.proj, transformer_original_input_size=(1, 3, 384, 384)\n",
    "    )\n",
    "\n",
    "\n",
    "    custom_model.load_state_dict(torch.load(mw))\n",
    "    custom_model.to(\"cuda:1\");\n",
    "    custom_model.eval();\n",
    "\n",
    "    res = predict_tta(vld_dl, custom_model)\n",
    "    df_eval['pred'] = torch.cat(res).view(-1).numpy()\n",
    "    break\n",
    "    df_eval['snr'] = df_eval['snr'].replace(np.nan, 0)\n",
    "    df_eval = df_eval.dropna(subset='pred')\n",
    "    dict_res = generate_report(df_eval)\n",
    "    #dict_res_400_500 = generate_report(df_eval.query('freq>400 and freq<500'))\n",
    "    #dict_res_300_400 = generate_report(df_eval.query('freq>300 and freq<400'))\n",
    "    #dict_res_200_300 = generate_report(df_eval.query('freq>200 and freq<300'))\n",
    "    #dict_res_50_200 = generate_report(df_eval.query('freq>50 and freq<200'))\n",
    "    print('___all___')\n",
    "    print(dict_res)\n",
    "    #print('freq_400_500:')\n",
    "    #print(dict_res_400_500)\n",
    "    #print('freq_300_400:')\n",
    "    #print(dict_res_300_400)\n",
    "    #print('freq_200_300:')\n",
    "    #print(dict_res_200_300)\n",
    "    #print('freq_50_200:')\n",
    "    #print(dict_res_50_200)\n",
    "\n"
   ]
  },
  {
   "cell_type": "code",
   "execution_count": 35,
   "id": "1c8cc37b",
   "metadata": {},
   "outputs": [],
   "source": [
    "df_eval.id = df_eval.id.apply(lambda x: x.stem)\n",
    "df_eval.to_csv('EXP_202_SWIN_64.csv', index=False)"
   ]
  },
  {
   "cell_type": "code",
   "execution_count": null,
   "id": "47de4530",
   "metadata": {},
   "outputs": [],
   "source": [
    "# 0.72128\n",
    "# 0.7258"
   ]
  },
  {
   "cell_type": "code",
   "execution_count": 36,
   "id": "51276728",
   "metadata": {},
   "outputs": [
    {
     "data": {
      "text/plain": [
       "0.7212884322122955"
      ]
     },
     "execution_count": 36,
     "metadata": {},
     "output_type": "execute_result"
    }
   ],
   "source": [
    "roc_auc_score(df_eval.dropna(subset='pred')['target'], df_eval.dropna(subset='pred')['pred'])"
   ]
  },
  {
   "cell_type": "code",
   "execution_count": 55,
   "id": "b40fb37f",
   "metadata": {},
   "outputs": [],
   "source": [
    "x = pd.merge(pd.read_csv('EXP_202_SWIN_128_SUB.csv'), pd.read_csv('EXP_202_SWIN_64_SUB.csv'), on='id')"
   ]
  },
  {
   "cell_type": "code",
   "execution_count": 59,
   "id": "4db781ea",
   "metadata": {},
   "outputs": [],
   "source": [
    "x['target'] =( x['target_x'] + x['target_y'])/2"
   ]
  },
  {
   "cell_type": "code",
   "execution_count": 62,
   "id": "f70005cf",
   "metadata": {},
   "outputs": [],
   "source": [
    "x[['id', 'target']].to_csv('EXP_202_SWIN_756_INPUT.csv', index=False)"
   ]
  },
  {
   "cell_type": "code",
   "execution_count": null,
   "id": "e60649e9",
   "metadata": {},
   "outputs": [],
   "source": []
  }
 ],
 "metadata": {
  "kernelspec": {
   "display_name": "Python 3 (ipykernel)",
   "language": "python",
   "name": "python3"
  },
  "language_info": {
   "codemirror_mode": {
    "name": "ipython",
    "version": 3
   },
   "file_extension": ".py",
   "mimetype": "text/x-python",
   "name": "python",
   "nbconvert_exporter": "python",
   "pygments_lexer": "ipython3",
   "version": "3.8.13"
  },
  "vscode": {
   "interpreter": {
    "hash": "d4d1e4263499bec80672ea0156c357c1ee493ec2b1c70f0acce89fc37c4a6abe"
   }
  }
 },
 "nbformat": 4,
 "nbformat_minor": 5
}
