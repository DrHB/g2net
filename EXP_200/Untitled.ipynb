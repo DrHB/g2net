{
 "cells": [
  {
   "cell_type": "code",
   "execution_count": 1,
   "id": "73ca5bcb",
   "metadata": {},
   "outputs": [],
   "source": [
    "import pandas as pd"
   ]
  },
  {
   "cell_type": "code",
   "execution_count": 2,
   "id": "50c45cc8",
   "metadata": {},
   "outputs": [
    {
     "name": "stdout",
     "output_type": "stream",
     "text": [
      "BASELINE-CASHE-V2.ipynb        EXP_200_BASELINE_CASHE_V4\r\n",
      "BASELINE-CASHE-V3.ipynb        EXP_200_BASELINE_CASHE_V4.csv\r\n",
      "BASELINE-CASHE-V4.ipynb        EXP_200_BASELINE_CASHE_V4_EVAL_CORRECT.csv\r\n",
      "BASELINE-CASHE-V5-Copy1.ipynb  EXP_200_BASELINE_CASHE_V4_EVAL_V21_CORRECT.csv\r\n",
      "BASELINE-CASHE-VIT.ipynb       EXP_200_BASELINE_CASHE_V4_EVAL_V23_CORRECT.csv\r\n",
      "BASELINE-CASHE.ipynb\t       EXP_200_BASELINE_CASHE_VIT\r\n",
      "BASELINE.ipynb\t\t       FREQ_EDA.ipynb\r\n",
      "EXP_200_BASELINE\t       INFRENCE.ipynb\r\n",
      "EXP_200_BASELINE_CASHE\t       Untitled.ipynb\r\n",
      "EXP_200_BASELINE_CASHE_V2      cashe_dataset\r\n",
      "EXP_200_BASELINE_CASHE_V3      generate_cash_dataset.ipynb\r\n"
     ]
    }
   ],
   "source": [
    "!ls"
   ]
  },
  {
   "cell_type": "code",
   "execution_count": 10,
   "id": "39bf91c4",
   "metadata": {},
   "outputs": [],
   "source": [
    "df = pd.read_csv('EXP_200_BASELINE_CASHE_V4_EVAL_V23_CORRECT.csv')[[\"id\", \"pred\"]]\n",
    "df.columns = ['id', 'target']\n",
    "df.to_csv('EXP_200_BASELINE_CASHE_V23_OOF.csv', index=False)\n",
    "\n"
   ]
  },
  {
   "cell_type": "code",
   "execution_count": null,
   "id": "10076e14",
   "metadata": {},
   "outputs": [],
   "source": []
  }
 ],
 "metadata": {
  "kernelspec": {
   "display_name": "Python 3 (ipykernel)",
   "language": "python",
   "name": "python3"
  },
  "language_info": {
   "codemirror_mode": {
    "name": "ipython",
    "version": 3
   },
   "file_extension": ".py",
   "mimetype": "text/x-python",
   "name": "python",
   "nbconvert_exporter": "python",
   "pygments_lexer": "ipython3",
   "version": "3.8.13"
  }
 },
 "nbformat": 4,
 "nbformat_minor": 5
}
